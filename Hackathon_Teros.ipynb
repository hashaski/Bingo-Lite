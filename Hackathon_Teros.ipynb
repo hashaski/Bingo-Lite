{
  "cells": [
    {
      "cell_type": "markdown",
      "metadata": {
        "id": "view-in-github",
        "colab_type": "text"
      },
      "source": [
        "<a href=\"https://colab.research.google.com/github/hashaski/Bingo-Lite/blob/main/Hackathon_Teros.ipynb\" target=\"_parent\"><img src=\"https://colab.research.google.com/assets/colab-badge.svg\" alt=\"Open In Colab\"/></a>"
      ]
    },
    {
      "cell_type": "markdown",
      "metadata": {
        "id": "ae6fSquxEnpm"
      },
      "source": [
        "\n",
        "# Hackathon Teros\n",
        "participantes: <br>\n",
        "  Alex Se Yoon Koo 32129319 <br>\n",
        "  André TIA 32273541 <br>\n",
        "  Diogo TIA <br>\n",
        "  Nicolas Carmona Rondon"
      ]
    },
    {
      "cell_type": "markdown",
      "metadata": {
        "id": "vpM1Bn7mE-eo"
      },
      "source": [
        "## Análise de Dados"
      ]
    },
    {
      "cell_type": "markdown",
      "metadata": {
        "id": "FsYYPlnPVeqk"
      },
      "source": [
        "Importamos os arquivos e as bibliotecas necessárias tanto para a crição de base de dados e para o motor analítico."
      ]
    },
    {
      "cell_type": "code",
      "execution_count": null,
      "metadata": {
        "colab": {
          "base_uri": "https://localhost:8080/",
          "height": 644
        },
        "id": "NvEUzoaiCsgB",
        "outputId": "a0255bd1-3795-4a0a-9fb8-267e4ee1001f"
      },
      "outputs": [
        {
          "output_type": "execute_result",
          "data": {
            "text/plain": [
              "     Unnamed: 0  Codigo_da_oportunidade Classificacao_da_Oportunidade  \\\n",
              "0             1                   10054                          Novo   \n",
              "1             2                   10004                   Recuperação   \n",
              "2             3                   10063                     Renovação   \n",
              "3             4                   10138                          Novo   \n",
              "4             5                   10074                     Renovação   \n",
              "..          ...                     ...                           ...   \n",
              "608         609                   12013                   Recuperação   \n",
              "609         610                   12191                   Recuperação   \n",
              "610         611                   12202                     Renovação   \n",
              "611         612                   11621                          Novo   \n",
              "612         613                   12327                   Recuperação   \n",
              "\n",
              "    Data_de_criacao Faixa_de_Faturamento_Agregado  \\\n",
              "0        2019-10-11         De 60,1 a 300 milhoes   \n",
              "1        2019-10-09             De 501 a 1 bilhão   \n",
              "2        2019-10-16            Acima de 5 bilhões   \n",
              "3        2019-10-29         De 60,1 a 300 milhoes   \n",
              "4        2019-10-16            Acima de 5 bilhões   \n",
              "..              ...                           ...   \n",
              "608      2021-01-27             De 501 a 1 bilhão   \n",
              "609      2021-03-01            Acima de 5 bilhões   \n",
              "610      2021-03-03         De 60,1 a 300 milhoes   \n",
              "611      2020-10-09              De 1 a 5 bilhões   \n",
              "612      2021-03-25          De 301 a 500 milhões   \n",
              "\n",
              "    Data_Real_de_Encerramento_da_Opp2  id_fechou  numero_relacionamentos  \\\n",
              "0                          2019-10-29          1                       1   \n",
              "1                          2019-10-31          1                       2   \n",
              "2                          2019-11-04          0                       8   \n",
              "3                          2019-11-06          1                       1   \n",
              "4                          2019-11-13          1                       6   \n",
              "..                                ...        ...                     ...   \n",
              "608                        2021-05-21          0                       3   \n",
              "609                        2021-05-21          0                       2   \n",
              "610                        2021-05-24          0                       2   \n",
              "611                        2021-05-25          0                       1   \n",
              "612                        2021-05-25          0                      11   \n",
              "\n",
              "     numero_relacionamentos_convertidos  intervalo_tempo  ...  \\\n",
              "0                                     0             0.00  ...   \n",
              "1                                     1             2.03  ...   \n",
              "2                                     5             6.27  ...   \n",
              "3                                     0             0.00  ...   \n",
              "4                                     5             4.37  ...   \n",
              "..                                  ...              ...  ...   \n",
              "608                                   0            19.43  ...   \n",
              "609                                   0            38.53  ...   \n",
              "610                                   1            27.67  ...   \n",
              "611                                   0             0.00  ...   \n",
              "612                                   4            16.07  ...   \n",
              "\n",
              "     Transformação Digital  Treinamentos Roadmap  Segmentacao  \\\n",
              "0                        0             0       0            2   \n",
              "1                        0             0       0            0   \n",
              "2                        0             0       0            1   \n",
              "3                        0             0       0            0   \n",
              "4                        0             0       0            0   \n",
              "..                     ...           ...     ...          ...   \n",
              "608                      0             0       0            0   \n",
              "609                      0             0       0            3   \n",
              "610                      0             0       0            3   \n",
              "611                      0             0       0            0   \n",
              "612                      0             0       0            0   \n",
              "\n",
              "                          Carteira_Nova               Segmento_Agregado2  \\\n",
              "0                              Serviços         Telecomunicacoes e Midia   \n",
              "1                         Bens Duráveis                      Demais Ind.   \n",
              "2                              Serviços             Serviços Financeiros   \n",
              "3                     Bens Não Duráveis       Ind de Alimentos e Bebidas   \n",
              "4                Internacional & Outros           Siderurgia e Mineração   \n",
              "..                                  ...                              ...   \n",
              "608  Infraestrutura e Indústria de Base           Siderurgia e Mineração   \n",
              "609                            Serviços          Servicos Especializados   \n",
              "610                            Serviços                           Outros   \n",
              "611                   Bens Não Duráveis  Comércio de Alimentos e Bebidas   \n",
              "612                            Serviços           Transporte e Logística   \n",
              "\n",
              "     Total_HH  Custo_Total  Margem_Total  ID_cliente  \n",
              "0       115.0    151368.42      0.567519         826  \n",
              "1       205.0    183543.74      0.573154         225  \n",
              "2       472.0    725715.00      0.615311         849  \n",
              "3         4.0     24540.16      0.233120         282  \n",
              "4       691.0   1639159.66      0.545262         297  \n",
              "..        ...          ...           ...         ...  \n",
              "608     302.0    380656.50      0.470575         229  \n",
              "609      62.0    103393.16      0.469779         777  \n",
              "610      91.0    113290.31      0.475328         848  \n",
              "611     384.0    543069.12      0.579808         729  \n",
              "612      80.0    106176.42      0.449863         527  \n",
              "\n",
              "[613 rows x 45 columns]"
            ],
            "text/html": [
              "\n",
              "  <div id=\"df-7af10f32-c0e4-4e37-8f65-19952af8c087\">\n",
              "    <div class=\"colab-df-container\">\n",
              "      <div>\n",
              "<style scoped>\n",
              "    .dataframe tbody tr th:only-of-type {\n",
              "        vertical-align: middle;\n",
              "    }\n",
              "\n",
              "    .dataframe tbody tr th {\n",
              "        vertical-align: top;\n",
              "    }\n",
              "\n",
              "    .dataframe thead th {\n",
              "        text-align: right;\n",
              "    }\n",
              "</style>\n",
              "<table border=\"1\" class=\"dataframe\">\n",
              "  <thead>\n",
              "    <tr style=\"text-align: right;\">\n",
              "      <th></th>\n",
              "      <th>Unnamed: 0</th>\n",
              "      <th>Codigo_da_oportunidade</th>\n",
              "      <th>Classificacao_da_Oportunidade</th>\n",
              "      <th>Data_de_criacao</th>\n",
              "      <th>Faixa_de_Faturamento_Agregado</th>\n",
              "      <th>Data_Real_de_Encerramento_da_Opp2</th>\n",
              "      <th>id_fechou</th>\n",
              "      <th>numero_relacionamentos</th>\n",
              "      <th>numero_relacionamentos_convertidos</th>\n",
              "      <th>intervalo_tempo</th>\n",
              "      <th>...</th>\n",
              "      <th>Transformação Digital</th>\n",
              "      <th>Treinamentos</th>\n",
              "      <th>Roadmap</th>\n",
              "      <th>Segmentacao</th>\n",
              "      <th>Carteira_Nova</th>\n",
              "      <th>Segmento_Agregado2</th>\n",
              "      <th>Total_HH</th>\n",
              "      <th>Custo_Total</th>\n",
              "      <th>Margem_Total</th>\n",
              "      <th>ID_cliente</th>\n",
              "    </tr>\n",
              "  </thead>\n",
              "  <tbody>\n",
              "    <tr>\n",
              "      <th>0</th>\n",
              "      <td>1</td>\n",
              "      <td>10054</td>\n",
              "      <td>Novo</td>\n",
              "      <td>2019-10-11</td>\n",
              "      <td>De 60,1 a 300 milhoes</td>\n",
              "      <td>2019-10-29</td>\n",
              "      <td>1</td>\n",
              "      <td>1</td>\n",
              "      <td>0</td>\n",
              "      <td>0.00</td>\n",
              "      <td>...</td>\n",
              "      <td>0</td>\n",
              "      <td>0</td>\n",
              "      <td>0</td>\n",
              "      <td>2</td>\n",
              "      <td>Serviços</td>\n",
              "      <td>Telecomunicacoes e Midia</td>\n",
              "      <td>115.0</td>\n",
              "      <td>151368.42</td>\n",
              "      <td>0.567519</td>\n",
              "      <td>826</td>\n",
              "    </tr>\n",
              "    <tr>\n",
              "      <th>1</th>\n",
              "      <td>2</td>\n",
              "      <td>10004</td>\n",
              "      <td>Recuperação</td>\n",
              "      <td>2019-10-09</td>\n",
              "      <td>De 501 a 1 bilhão</td>\n",
              "      <td>2019-10-31</td>\n",
              "      <td>1</td>\n",
              "      <td>2</td>\n",
              "      <td>1</td>\n",
              "      <td>2.03</td>\n",
              "      <td>...</td>\n",
              "      <td>0</td>\n",
              "      <td>0</td>\n",
              "      <td>0</td>\n",
              "      <td>0</td>\n",
              "      <td>Bens Duráveis</td>\n",
              "      <td>Demais Ind.</td>\n",
              "      <td>205.0</td>\n",
              "      <td>183543.74</td>\n",
              "      <td>0.573154</td>\n",
              "      <td>225</td>\n",
              "    </tr>\n",
              "    <tr>\n",
              "      <th>2</th>\n",
              "      <td>3</td>\n",
              "      <td>10063</td>\n",
              "      <td>Renovação</td>\n",
              "      <td>2019-10-16</td>\n",
              "      <td>Acima de 5 bilhões</td>\n",
              "      <td>2019-11-04</td>\n",
              "      <td>0</td>\n",
              "      <td>8</td>\n",
              "      <td>5</td>\n",
              "      <td>6.27</td>\n",
              "      <td>...</td>\n",
              "      <td>0</td>\n",
              "      <td>0</td>\n",
              "      <td>0</td>\n",
              "      <td>1</td>\n",
              "      <td>Serviços</td>\n",
              "      <td>Serviços Financeiros</td>\n",
              "      <td>472.0</td>\n",
              "      <td>725715.00</td>\n",
              "      <td>0.615311</td>\n",
              "      <td>849</td>\n",
              "    </tr>\n",
              "    <tr>\n",
              "      <th>3</th>\n",
              "      <td>4</td>\n",
              "      <td>10138</td>\n",
              "      <td>Novo</td>\n",
              "      <td>2019-10-29</td>\n",
              "      <td>De 60,1 a 300 milhoes</td>\n",
              "      <td>2019-11-06</td>\n",
              "      <td>1</td>\n",
              "      <td>1</td>\n",
              "      <td>0</td>\n",
              "      <td>0.00</td>\n",
              "      <td>...</td>\n",
              "      <td>0</td>\n",
              "      <td>0</td>\n",
              "      <td>0</td>\n",
              "      <td>0</td>\n",
              "      <td>Bens Não Duráveis</td>\n",
              "      <td>Ind de Alimentos e Bebidas</td>\n",
              "      <td>4.0</td>\n",
              "      <td>24540.16</td>\n",
              "      <td>0.233120</td>\n",
              "      <td>282</td>\n",
              "    </tr>\n",
              "    <tr>\n",
              "      <th>4</th>\n",
              "      <td>5</td>\n",
              "      <td>10074</td>\n",
              "      <td>Renovação</td>\n",
              "      <td>2019-10-16</td>\n",
              "      <td>Acima de 5 bilhões</td>\n",
              "      <td>2019-11-13</td>\n",
              "      <td>1</td>\n",
              "      <td>6</td>\n",
              "      <td>5</td>\n",
              "      <td>4.37</td>\n",
              "      <td>...</td>\n",
              "      <td>0</td>\n",
              "      <td>0</td>\n",
              "      <td>0</td>\n",
              "      <td>0</td>\n",
              "      <td>Internacional &amp; Outros</td>\n",
              "      <td>Siderurgia e Mineração</td>\n",
              "      <td>691.0</td>\n",
              "      <td>1639159.66</td>\n",
              "      <td>0.545262</td>\n",
              "      <td>297</td>\n",
              "    </tr>\n",
              "    <tr>\n",
              "      <th>...</th>\n",
              "      <td>...</td>\n",
              "      <td>...</td>\n",
              "      <td>...</td>\n",
              "      <td>...</td>\n",
              "      <td>...</td>\n",
              "      <td>...</td>\n",
              "      <td>...</td>\n",
              "      <td>...</td>\n",
              "      <td>...</td>\n",
              "      <td>...</td>\n",
              "      <td>...</td>\n",
              "      <td>...</td>\n",
              "      <td>...</td>\n",
              "      <td>...</td>\n",
              "      <td>...</td>\n",
              "      <td>...</td>\n",
              "      <td>...</td>\n",
              "      <td>...</td>\n",
              "      <td>...</td>\n",
              "      <td>...</td>\n",
              "      <td>...</td>\n",
              "    </tr>\n",
              "    <tr>\n",
              "      <th>608</th>\n",
              "      <td>609</td>\n",
              "      <td>12013</td>\n",
              "      <td>Recuperação</td>\n",
              "      <td>2021-01-27</td>\n",
              "      <td>De 501 a 1 bilhão</td>\n",
              "      <td>2021-05-21</td>\n",
              "      <td>0</td>\n",
              "      <td>3</td>\n",
              "      <td>0</td>\n",
              "      <td>19.43</td>\n",
              "      <td>...</td>\n",
              "      <td>0</td>\n",
              "      <td>0</td>\n",
              "      <td>0</td>\n",
              "      <td>0</td>\n",
              "      <td>Infraestrutura e Indústria de Base</td>\n",
              "      <td>Siderurgia e Mineração</td>\n",
              "      <td>302.0</td>\n",
              "      <td>380656.50</td>\n",
              "      <td>0.470575</td>\n",
              "      <td>229</td>\n",
              "    </tr>\n",
              "    <tr>\n",
              "      <th>609</th>\n",
              "      <td>610</td>\n",
              "      <td>12191</td>\n",
              "      <td>Recuperação</td>\n",
              "      <td>2021-03-01</td>\n",
              "      <td>Acima de 5 bilhões</td>\n",
              "      <td>2021-05-21</td>\n",
              "      <td>0</td>\n",
              "      <td>2</td>\n",
              "      <td>0</td>\n",
              "      <td>38.53</td>\n",
              "      <td>...</td>\n",
              "      <td>0</td>\n",
              "      <td>0</td>\n",
              "      <td>0</td>\n",
              "      <td>3</td>\n",
              "      <td>Serviços</td>\n",
              "      <td>Servicos Especializados</td>\n",
              "      <td>62.0</td>\n",
              "      <td>103393.16</td>\n",
              "      <td>0.469779</td>\n",
              "      <td>777</td>\n",
              "    </tr>\n",
              "    <tr>\n",
              "      <th>610</th>\n",
              "      <td>611</td>\n",
              "      <td>12202</td>\n",
              "      <td>Renovação</td>\n",
              "      <td>2021-03-03</td>\n",
              "      <td>De 60,1 a 300 milhoes</td>\n",
              "      <td>2021-05-24</td>\n",
              "      <td>0</td>\n",
              "      <td>2</td>\n",
              "      <td>1</td>\n",
              "      <td>27.67</td>\n",
              "      <td>...</td>\n",
              "      <td>0</td>\n",
              "      <td>0</td>\n",
              "      <td>0</td>\n",
              "      <td>3</td>\n",
              "      <td>Serviços</td>\n",
              "      <td>Outros</td>\n",
              "      <td>91.0</td>\n",
              "      <td>113290.31</td>\n",
              "      <td>0.475328</td>\n",
              "      <td>848</td>\n",
              "    </tr>\n",
              "    <tr>\n",
              "      <th>611</th>\n",
              "      <td>612</td>\n",
              "      <td>11621</td>\n",
              "      <td>Novo</td>\n",
              "      <td>2020-10-09</td>\n",
              "      <td>De 1 a 5 bilhões</td>\n",
              "      <td>2021-05-25</td>\n",
              "      <td>0</td>\n",
              "      <td>1</td>\n",
              "      <td>0</td>\n",
              "      <td>0.00</td>\n",
              "      <td>...</td>\n",
              "      <td>0</td>\n",
              "      <td>0</td>\n",
              "      <td>0</td>\n",
              "      <td>0</td>\n",
              "      <td>Bens Não Duráveis</td>\n",
              "      <td>Comércio de Alimentos e Bebidas</td>\n",
              "      <td>384.0</td>\n",
              "      <td>543069.12</td>\n",
              "      <td>0.579808</td>\n",
              "      <td>729</td>\n",
              "    </tr>\n",
              "    <tr>\n",
              "      <th>612</th>\n",
              "      <td>613</td>\n",
              "      <td>12327</td>\n",
              "      <td>Recuperação</td>\n",
              "      <td>2021-03-25</td>\n",
              "      <td>De 301 a 500 milhões</td>\n",
              "      <td>2021-05-25</td>\n",
              "      <td>0</td>\n",
              "      <td>11</td>\n",
              "      <td>4</td>\n",
              "      <td>16.07</td>\n",
              "      <td>...</td>\n",
              "      <td>0</td>\n",
              "      <td>0</td>\n",
              "      <td>0</td>\n",
              "      <td>0</td>\n",
              "      <td>Serviços</td>\n",
              "      <td>Transporte e Logística</td>\n",
              "      <td>80.0</td>\n",
              "      <td>106176.42</td>\n",
              "      <td>0.449863</td>\n",
              "      <td>527</td>\n",
              "    </tr>\n",
              "  </tbody>\n",
              "</table>\n",
              "<p>613 rows × 45 columns</p>\n",
              "</div>\n",
              "      <button class=\"colab-df-convert\" onclick=\"convertToInteractive('df-7af10f32-c0e4-4e37-8f65-19952af8c087')\"\n",
              "              title=\"Convert this dataframe to an interactive table.\"\n",
              "              style=\"display:none;\">\n",
              "        \n",
              "  <svg xmlns=\"http://www.w3.org/2000/svg\" height=\"24px\"viewBox=\"0 0 24 24\"\n",
              "       width=\"24px\">\n",
              "    <path d=\"M0 0h24v24H0V0z\" fill=\"none\"/>\n",
              "    <path d=\"M18.56 5.44l.94 2.06.94-2.06 2.06-.94-2.06-.94-.94-2.06-.94 2.06-2.06.94zm-11 1L8.5 8.5l.94-2.06 2.06-.94-2.06-.94L8.5 2.5l-.94 2.06-2.06.94zm10 10l.94 2.06.94-2.06 2.06-.94-2.06-.94-.94-2.06-.94 2.06-2.06.94z\"/><path d=\"M17.41 7.96l-1.37-1.37c-.4-.4-.92-.59-1.43-.59-.52 0-1.04.2-1.43.59L10.3 9.45l-7.72 7.72c-.78.78-.78 2.05 0 2.83L4 21.41c.39.39.9.59 1.41.59.51 0 1.02-.2 1.41-.59l7.78-7.78 2.81-2.81c.8-.78.8-2.07 0-2.86zM5.41 20L4 18.59l7.72-7.72 1.47 1.35L5.41 20z\"/>\n",
              "  </svg>\n",
              "      </button>\n",
              "      \n",
              "  <style>\n",
              "    .colab-df-container {\n",
              "      display:flex;\n",
              "      flex-wrap:wrap;\n",
              "      gap: 12px;\n",
              "    }\n",
              "\n",
              "    .colab-df-convert {\n",
              "      background-color: #E8F0FE;\n",
              "      border: none;\n",
              "      border-radius: 50%;\n",
              "      cursor: pointer;\n",
              "      display: none;\n",
              "      fill: #1967D2;\n",
              "      height: 32px;\n",
              "      padding: 0 0 0 0;\n",
              "      width: 32px;\n",
              "    }\n",
              "\n",
              "    .colab-df-convert:hover {\n",
              "      background-color: #E2EBFA;\n",
              "      box-shadow: 0px 1px 2px rgba(60, 64, 67, 0.3), 0px 1px 3px 1px rgba(60, 64, 67, 0.15);\n",
              "      fill: #174EA6;\n",
              "    }\n",
              "\n",
              "    [theme=dark] .colab-df-convert {\n",
              "      background-color: #3B4455;\n",
              "      fill: #D2E3FC;\n",
              "    }\n",
              "\n",
              "    [theme=dark] .colab-df-convert:hover {\n",
              "      background-color: #434B5C;\n",
              "      box-shadow: 0px 1px 3px 1px rgba(0, 0, 0, 0.15);\n",
              "      filter: drop-shadow(0px 1px 2px rgba(0, 0, 0, 0.3));\n",
              "      fill: #FFFFFF;\n",
              "    }\n",
              "  </style>\n",
              "\n",
              "      <script>\n",
              "        const buttonEl =\n",
              "          document.querySelector('#df-7af10f32-c0e4-4e37-8f65-19952af8c087 button.colab-df-convert');\n",
              "        buttonEl.style.display =\n",
              "          google.colab.kernel.accessAllowed ? 'block' : 'none';\n",
              "\n",
              "        async function convertToInteractive(key) {\n",
              "          const element = document.querySelector('#df-7af10f32-c0e4-4e37-8f65-19952af8c087');\n",
              "          const dataTable =\n",
              "            await google.colab.kernel.invokeFunction('convertToInteractive',\n",
              "                                                     [key], {});\n",
              "          if (!dataTable) return;\n",
              "\n",
              "          const docLinkHtml = 'Like what you see? Visit the ' +\n",
              "            '<a target=\"_blank\" href=https://colab.research.google.com/notebooks/data_table.ipynb>data table notebook</a>'\n",
              "            + ' to learn more about interactive tables.';\n",
              "          element.innerHTML = '';\n",
              "          dataTable['output_type'] = 'display_data';\n",
              "          await google.colab.output.renderOutput(dataTable, element);\n",
              "          const docLink = document.createElement('div');\n",
              "          docLink.innerHTML = docLinkHtml;\n",
              "          element.appendChild(docLink);\n",
              "        }\n",
              "      </script>\n",
              "    </div>\n",
              "  </div>\n",
              "  "
            ]
          },
          "metadata": {},
          "execution_count": 1
        }
      ],
      "source": [
        "#recebe arquivo para análise\n",
        "#arquivo = input('Digite o url do seu arquivo csv: ')\n",
        "#url_teste = arquivo\n",
        "\n",
        "import pandas as pd\n",
        "import numpy as np\n",
        "\n",
        "import xgboost as xgb\n",
        "from sklearn.model_selection import train_test_split\n",
        "from sklearn.model_selection import GridSearchCV\n",
        "from sklearn.metrics import balanced_accuracy_score, roc_auc_score, make_scorer\n",
        "from sklearn.metrics import confusion_matrix\n",
        "from sklearn.metrics import plot_confusion_matrix\n",
        "from sklearn.metrics import roc_auc_score\n",
        "from sklearn.metrics import accuracy_score\n",
        "\n",
        "url = 'https://raw.githubusercontent.com/hashaski/Hackathon-Teros/test/dados_treino_hackaton.csv'\n",
        "url_teste = 'https://raw.githubusercontent.com/hashaski/Hackathon-Teros/test/dados_teste_x_hackaton.csv'\n",
        "\n",
        "df = pd.read_csv(url, encoding = \"ISO-8859-1\")\n",
        "df_teste = pd.read_csv(url_teste, encoding = \"ISO-8859-1\")\n",
        "\n",
        "df"
      ]
    },
    {
      "cell_type": "markdown",
      "metadata": {
        "id": "qymDmV_QVoKq"
      },
      "source": [
        "Tiramos as colunas desnecessárias ou irrelevantes na hora da predição"
      ]
    },
    {
      "cell_type": "code",
      "execution_count": null,
      "metadata": {
        "id": "WkABR74hp01T"
      },
      "outputs": [],
      "source": [
        "#tiramos as colunas que achamos desnecessarias ou irrelevantes na hora da predição\n",
        "df.drop(['Unnamed: 0','Data_de_criacao','Data_Real_de_Encerramento_da_Opp2','intervalo_tempo','ID_cliente','ano','Codigo_da_oportunidade','n_solucoes'], axis=1, inplace = True)\n",
        "df_teste.drop(['Unnamed: 0','Data_de_criacao','Data_Real_de_Encerramento_da_Opp2','intervalo_tempo','ID_cliente','ano','Codigo_da_oportunidade','n_solucoes'], axis=1, inplace = True)"
      ]
    },
    {
      "cell_type": "markdown",
      "metadata": {
        "id": "hlaynYovVuMS"
      },
      "source": [
        "Tiramos os espaços em branco na coluna por um underline."
      ]
    },
    {
      "cell_type": "code",
      "execution_count": null,
      "metadata": {
        "id": "apOBjkIH4CeV"
      },
      "outputs": [],
      "source": [
        "#tiramos os espaços em branco na coluna por um underline\n",
        "df.replace(' ', '_', regex = True, inplace = True)\n",
        "df_teste.replace(' ', '_', regex = True, inplace = True)"
      ]
    },
    {
      "cell_type": "markdown",
      "metadata": {
        "id": "5C1o3PL8VyVD"
      },
      "source": [
        "Criamos uma variável com o data frame da base dados de treino com a coluna 'id_fechou', além de criar uma outra variável com o data frame da base de dados de teste, o qual não apresenta o column target (id_fechou)."
      ]
    },
    {
      "cell_type": "code",
      "execution_count": null,
      "metadata": {
        "id": "i_OAoYAPT4se"
      },
      "outputs": [],
      "source": [
        "X = df.drop('id_fechou', axis = 1).copy() #copiamos a tabela sem o id_fechou\n",
        "X2 = df_teste.copy()"
      ]
    },
    {
      "cell_type": "markdown",
      "metadata": {
        "id": "YZbHwLf8WLlw"
      },
      "source": [
        "A coluna id_fechou é guardada na variável y."
      ]
    },
    {
      "cell_type": "code",
      "execution_count": null,
      "metadata": {
        "id": "zAzQ48k5UEz5"
      },
      "outputs": [],
      "source": [
        "y = df['id_fechou'].copy() #copiamos a coluna id_fechou"
      ]
    },
    {
      "cell_type": "markdown",
      "metadata": {
        "id": "pOFb-LItWSLL"
      },
      "source": [
        "Vejamos os tipos de dados de cada coluna dentro do data frame do X:"
      ]
    },
    {
      "cell_type": "code",
      "execution_count": null,
      "metadata": {
        "colab": {
          "base_uri": "https://localhost:8080/"
        },
        "id": "lxQolUBsU65c",
        "outputId": "645cf7f9-8d3a-4213-9aa0-636c56fcafdf"
      },
      "outputs": [
        {
          "output_type": "execute_result",
          "data": {
            "text/plain": [
              "Classificacao_da_Oportunidade          object\n",
              "Faixa_de_Faturamento_Agregado          object\n",
              "numero_relacionamentos                  int64\n",
              "numero_relacionamentos_convertidos      int64\n",
              "Valor_corrigido2                      float64\n",
              "Forma_de_Contratacao_Agregado          object\n",
              "Concorrentes                            int64\n",
              "Software                                int64\n",
              "Comissão sobre Parceiros                int64\n",
              "Cybersecurity                           int64\n",
              "Desdobramento de metas                  int64\n",
              "ESG                                     int64\n",
              "Equilíbrio fiscal                       int64\n",
              "Skill_dev                               int64\n",
              "Gestão Estratégica                      int64\n",
              "Gestão da Educação                      int64\n",
              "Gestão da Operação                      int64\n",
              "Gestão da Receita                       int64\n",
              "Gestão da Saúde                         int64\n",
              "Gestão da Segurança Pública             int64\n",
              "Gestão da Segurança Viária              int64\n",
              "Gestão de Gastos                        int64\n",
              "Gestão de operações projetizadas        int64\n",
              "Gestão de pessoas                       int64\n",
              "Processes Excellence                    int64\n",
              "Produtos digitais                       int64\n",
              "S_amp_OP_S_amp_OE                       int64\n",
              "Transformação Digital                   int64\n",
              "Treinamentos                            int64\n",
              "Roadmap                                 int64\n",
              "Segmentacao                             int64\n",
              "Carteira_Nova                          object\n",
              "Segmento_Agregado2                     object\n",
              "Total_HH                              float64\n",
              "Custo_Total                           float64\n",
              "Margem_Total                          float64\n",
              "dtype: object"
            ]
          },
          "metadata": {},
          "execution_count": 6
        }
      ],
      "source": [
        "X.dtypes #apresenta os tipo de dados de cada coluna"
      ]
    },
    {
      "cell_type": "markdown",
      "metadata": {
        "id": "OQFXo63kWazR"
      },
      "source": [
        "Como podemos observar, certas colunas apresenta object como tipo de dado, o qual não é permitido uma vez que quando lidamos com o algoritmo de xgboost, ele trabalha apenas com dados numéricos. Para resolver esse problema usamos a técnica de One Hot Encoding, onde passamos a coluna do tipo object type para binária: criamos várias colunas e se a linha apresentar um certo valor é posicionada 1 na célula."
      ]
    },
    {
      "cell_type": "code",
      "execution_count": null,
      "metadata": {
        "colab": {
          "base_uri": "https://localhost:8080/",
          "height": 522
        },
        "id": "bb1b7YvSVf_M",
        "outputId": "d0f4843e-14df-478d-99c1-7e87e8e4e63e"
      },
      "outputs": [
        {
          "output_type": "execute_result",
          "data": {
            "text/plain": [
              "     numero_relacionamentos  numero_relacionamentos_convertidos  \\\n",
              "0                         1                                   0   \n",
              "1                         2                                   1   \n",
              "2                         8                                   5   \n",
              "3                         1                                   0   \n",
              "4                         6                                   5   \n",
              "..                      ...                                 ...   \n",
              "608                       3                                   0   \n",
              "609                       2                                   0   \n",
              "610                       2                                   1   \n",
              "611                       1                                   0   \n",
              "612                      11                                   4   \n",
              "\n",
              "     Valor_corrigido2  Concorrentes  Software  Comissão sobre Parceiros  \\\n",
              "0        5.035363e+05             0         0                         0   \n",
              "1        6.186303e+05             0         0                         0   \n",
              "2        2.700289e+06             0         0                         0   \n",
              "3        4.580399e+04             0         0                         0   \n",
              "4        4.424331e+06             0         0                         0   \n",
              "..                ...           ...       ...                       ...   \n",
              "608      9.431257e+05             0         0                         0   \n",
              "609      2.557851e+05             0         0                         0   \n",
              "610      2.832343e+05             0         0                         0   \n",
              "611      1.695306e+06             0         0                         0   \n",
              "612      2.531617e+05             0         0                         0   \n",
              "\n",
              "     Cybersecurity  Desdobramento de metas  ESG  Equilíbrio fiscal  ...  \\\n",
              "0                0                       1    0                  0  ...   \n",
              "1                0                       0    0                  0  ...   \n",
              "2                0                       0    0                  0  ...   \n",
              "3                0                       0    0                  0  ...   \n",
              "4                0                       0    0                  0  ...   \n",
              "..             ...                     ...  ...                ...  ...   \n",
              "608              0                       0    0                  0  ...   \n",
              "609              0                       0    0                  0  ...   \n",
              "610              0                       1    0                  0  ...   \n",
              "611              0                       0    0                  0  ...   \n",
              "612              0                       0    1                  0  ...   \n",
              "\n",
              "     Segmento_Agregado2_Petróleo_e_Gás  \\\n",
              "0                                    0   \n",
              "1                                    0   \n",
              "2                                    0   \n",
              "3                                    0   \n",
              "4                                    0   \n",
              "..                                 ...   \n",
              "608                                  0   \n",
              "609                                  0   \n",
              "610                                  0   \n",
              "611                                  0   \n",
              "612                                  0   \n",
              "\n",
              "     Segmento_Agregado2_Químico_Petroquímico_e_Embalagens  \\\n",
              "0                                                    0      \n",
              "1                                                    0      \n",
              "2                                                    0      \n",
              "3                                                    0      \n",
              "4                                                    0      \n",
              "..                                                 ...      \n",
              "608                                                  0      \n",
              "609                                                  0      \n",
              "610                                                  0      \n",
              "611                                                  0      \n",
              "612                                                  0      \n",
              "\n",
              "     Segmento_Agregado2_Saneamento_e_Infra  \\\n",
              "0                                        0   \n",
              "1                                        0   \n",
              "2                                        0   \n",
              "3                                        0   \n",
              "4                                        0   \n",
              "..                                     ...   \n",
              "608                                      0   \n",
              "609                                      0   \n",
              "610                                      0   \n",
              "611                                      0   \n",
              "612                                      0   \n",
              "\n",
              "     Segmento_Agregado2_Servicos_Especializados  \\\n",
              "0                                             0   \n",
              "1                                             0   \n",
              "2                                             0   \n",
              "3                                             0   \n",
              "4                                             0   \n",
              "..                                          ...   \n",
              "608                                           0   \n",
              "609                                           1   \n",
              "610                                           0   \n",
              "611                                           0   \n",
              "612                                           0   \n",
              "\n",
              "     Segmento_Agregado2_Serviços_Financeiros  \\\n",
              "0                                          0   \n",
              "1                                          0   \n",
              "2                                          1   \n",
              "3                                          0   \n",
              "4                                          0   \n",
              "..                                       ...   \n",
              "608                                        0   \n",
              "609                                        0   \n",
              "610                                        0   \n",
              "611                                        0   \n",
              "612                                        0   \n",
              "\n",
              "     Segmento_Agregado2_Serviços_Médicos  \\\n",
              "0                                      0   \n",
              "1                                      0   \n",
              "2                                      0   \n",
              "3                                      0   \n",
              "4                                      0   \n",
              "..                                   ...   \n",
              "608                                    0   \n",
              "609                                    0   \n",
              "610                                    0   \n",
              "611                                    0   \n",
              "612                                    0   \n",
              "\n",
              "     Segmento_Agregado2_Siderurgia_e_Mineração  Segmento_Agregado2_Tecnologia  \\\n",
              "0                                            0                              0   \n",
              "1                                            0                              0   \n",
              "2                                            0                              0   \n",
              "3                                            0                              0   \n",
              "4                                            1                              0   \n",
              "..                                         ...                            ...   \n",
              "608                                          1                              0   \n",
              "609                                          0                              0   \n",
              "610                                          0                              0   \n",
              "611                                          0                              0   \n",
              "612                                          0                              0   \n",
              "\n",
              "     Segmento_Agregado2_Telecomunicacoes_e_Midia  \\\n",
              "0                                              1   \n",
              "1                                              0   \n",
              "2                                              0   \n",
              "3                                              0   \n",
              "4                                              0   \n",
              "..                                           ...   \n",
              "608                                            0   \n",
              "609                                            0   \n",
              "610                                            0   \n",
              "611                                            0   \n",
              "612                                            0   \n",
              "\n",
              "     Segmento_Agregado2_Transporte_e_Logística  \n",
              "0                                            0  \n",
              "1                                            0  \n",
              "2                                            0  \n",
              "3                                            0  \n",
              "4                                            0  \n",
              "..                                         ...  \n",
              "608                                          0  \n",
              "609                                          0  \n",
              "610                                          0  \n",
              "611                                          0  \n",
              "612                                          1  \n",
              "\n",
              "[613 rows x 73 columns]"
            ],
            "text/html": [
              "\n",
              "  <div id=\"df-b21a59c6-7381-484a-b68c-0fe1d555a936\">\n",
              "    <div class=\"colab-df-container\">\n",
              "      <div>\n",
              "<style scoped>\n",
              "    .dataframe tbody tr th:only-of-type {\n",
              "        vertical-align: middle;\n",
              "    }\n",
              "\n",
              "    .dataframe tbody tr th {\n",
              "        vertical-align: top;\n",
              "    }\n",
              "\n",
              "    .dataframe thead th {\n",
              "        text-align: right;\n",
              "    }\n",
              "</style>\n",
              "<table border=\"1\" class=\"dataframe\">\n",
              "  <thead>\n",
              "    <tr style=\"text-align: right;\">\n",
              "      <th></th>\n",
              "      <th>numero_relacionamentos</th>\n",
              "      <th>numero_relacionamentos_convertidos</th>\n",
              "      <th>Valor_corrigido2</th>\n",
              "      <th>Concorrentes</th>\n",
              "      <th>Software</th>\n",
              "      <th>Comissão sobre Parceiros</th>\n",
              "      <th>Cybersecurity</th>\n",
              "      <th>Desdobramento de metas</th>\n",
              "      <th>ESG</th>\n",
              "      <th>Equilíbrio fiscal</th>\n",
              "      <th>...</th>\n",
              "      <th>Segmento_Agregado2_Petróleo_e_Gás</th>\n",
              "      <th>Segmento_Agregado2_Químico_Petroquímico_e_Embalagens</th>\n",
              "      <th>Segmento_Agregado2_Saneamento_e_Infra</th>\n",
              "      <th>Segmento_Agregado2_Servicos_Especializados</th>\n",
              "      <th>Segmento_Agregado2_Serviços_Financeiros</th>\n",
              "      <th>Segmento_Agregado2_Serviços_Médicos</th>\n",
              "      <th>Segmento_Agregado2_Siderurgia_e_Mineração</th>\n",
              "      <th>Segmento_Agregado2_Tecnologia</th>\n",
              "      <th>Segmento_Agregado2_Telecomunicacoes_e_Midia</th>\n",
              "      <th>Segmento_Agregado2_Transporte_e_Logística</th>\n",
              "    </tr>\n",
              "  </thead>\n",
              "  <tbody>\n",
              "    <tr>\n",
              "      <th>0</th>\n",
              "      <td>1</td>\n",
              "      <td>0</td>\n",
              "      <td>5.035363e+05</td>\n",
              "      <td>0</td>\n",
              "      <td>0</td>\n",
              "      <td>0</td>\n",
              "      <td>0</td>\n",
              "      <td>1</td>\n",
              "      <td>0</td>\n",
              "      <td>0</td>\n",
              "      <td>...</td>\n",
              "      <td>0</td>\n",
              "      <td>0</td>\n",
              "      <td>0</td>\n",
              "      <td>0</td>\n",
              "      <td>0</td>\n",
              "      <td>0</td>\n",
              "      <td>0</td>\n",
              "      <td>0</td>\n",
              "      <td>1</td>\n",
              "      <td>0</td>\n",
              "    </tr>\n",
              "    <tr>\n",
              "      <th>1</th>\n",
              "      <td>2</td>\n",
              "      <td>1</td>\n",
              "      <td>6.186303e+05</td>\n",
              "      <td>0</td>\n",
              "      <td>0</td>\n",
              "      <td>0</td>\n",
              "      <td>0</td>\n",
              "      <td>0</td>\n",
              "      <td>0</td>\n",
              "      <td>0</td>\n",
              "      <td>...</td>\n",
              "      <td>0</td>\n",
              "      <td>0</td>\n",
              "      <td>0</td>\n",
              "      <td>0</td>\n",
              "      <td>0</td>\n",
              "      <td>0</td>\n",
              "      <td>0</td>\n",
              "      <td>0</td>\n",
              "      <td>0</td>\n",
              "      <td>0</td>\n",
              "    </tr>\n",
              "    <tr>\n",
              "      <th>2</th>\n",
              "      <td>8</td>\n",
              "      <td>5</td>\n",
              "      <td>2.700289e+06</td>\n",
              "      <td>0</td>\n",
              "      <td>0</td>\n",
              "      <td>0</td>\n",
              "      <td>0</td>\n",
              "      <td>0</td>\n",
              "      <td>0</td>\n",
              "      <td>0</td>\n",
              "      <td>...</td>\n",
              "      <td>0</td>\n",
              "      <td>0</td>\n",
              "      <td>0</td>\n",
              "      <td>0</td>\n",
              "      <td>1</td>\n",
              "      <td>0</td>\n",
              "      <td>0</td>\n",
              "      <td>0</td>\n",
              "      <td>0</td>\n",
              "      <td>0</td>\n",
              "    </tr>\n",
              "    <tr>\n",
              "      <th>3</th>\n",
              "      <td>1</td>\n",
              "      <td>0</td>\n",
              "      <td>4.580399e+04</td>\n",
              "      <td>0</td>\n",
              "      <td>0</td>\n",
              "      <td>0</td>\n",
              "      <td>0</td>\n",
              "      <td>0</td>\n",
              "      <td>0</td>\n",
              "      <td>0</td>\n",
              "      <td>...</td>\n",
              "      <td>0</td>\n",
              "      <td>0</td>\n",
              "      <td>0</td>\n",
              "      <td>0</td>\n",
              "      <td>0</td>\n",
              "      <td>0</td>\n",
              "      <td>0</td>\n",
              "      <td>0</td>\n",
              "      <td>0</td>\n",
              "      <td>0</td>\n",
              "    </tr>\n",
              "    <tr>\n",
              "      <th>4</th>\n",
              "      <td>6</td>\n",
              "      <td>5</td>\n",
              "      <td>4.424331e+06</td>\n",
              "      <td>0</td>\n",
              "      <td>0</td>\n",
              "      <td>0</td>\n",
              "      <td>0</td>\n",
              "      <td>0</td>\n",
              "      <td>0</td>\n",
              "      <td>0</td>\n",
              "      <td>...</td>\n",
              "      <td>0</td>\n",
              "      <td>0</td>\n",
              "      <td>0</td>\n",
              "      <td>0</td>\n",
              "      <td>0</td>\n",
              "      <td>0</td>\n",
              "      <td>1</td>\n",
              "      <td>0</td>\n",
              "      <td>0</td>\n",
              "      <td>0</td>\n",
              "    </tr>\n",
              "    <tr>\n",
              "      <th>...</th>\n",
              "      <td>...</td>\n",
              "      <td>...</td>\n",
              "      <td>...</td>\n",
              "      <td>...</td>\n",
              "      <td>...</td>\n",
              "      <td>...</td>\n",
              "      <td>...</td>\n",
              "      <td>...</td>\n",
              "      <td>...</td>\n",
              "      <td>...</td>\n",
              "      <td>...</td>\n",
              "      <td>...</td>\n",
              "      <td>...</td>\n",
              "      <td>...</td>\n",
              "      <td>...</td>\n",
              "      <td>...</td>\n",
              "      <td>...</td>\n",
              "      <td>...</td>\n",
              "      <td>...</td>\n",
              "      <td>...</td>\n",
              "      <td>...</td>\n",
              "    </tr>\n",
              "    <tr>\n",
              "      <th>608</th>\n",
              "      <td>3</td>\n",
              "      <td>0</td>\n",
              "      <td>9.431257e+05</td>\n",
              "      <td>0</td>\n",
              "      <td>0</td>\n",
              "      <td>0</td>\n",
              "      <td>0</td>\n",
              "      <td>0</td>\n",
              "      <td>0</td>\n",
              "      <td>0</td>\n",
              "      <td>...</td>\n",
              "      <td>0</td>\n",
              "      <td>0</td>\n",
              "      <td>0</td>\n",
              "      <td>0</td>\n",
              "      <td>0</td>\n",
              "      <td>0</td>\n",
              "      <td>1</td>\n",
              "      <td>0</td>\n",
              "      <td>0</td>\n",
              "      <td>0</td>\n",
              "    </tr>\n",
              "    <tr>\n",
              "      <th>609</th>\n",
              "      <td>2</td>\n",
              "      <td>0</td>\n",
              "      <td>2.557851e+05</td>\n",
              "      <td>0</td>\n",
              "      <td>0</td>\n",
              "      <td>0</td>\n",
              "      <td>0</td>\n",
              "      <td>0</td>\n",
              "      <td>0</td>\n",
              "      <td>0</td>\n",
              "      <td>...</td>\n",
              "      <td>0</td>\n",
              "      <td>0</td>\n",
              "      <td>0</td>\n",
              "      <td>1</td>\n",
              "      <td>0</td>\n",
              "      <td>0</td>\n",
              "      <td>0</td>\n",
              "      <td>0</td>\n",
              "      <td>0</td>\n",
              "      <td>0</td>\n",
              "    </tr>\n",
              "    <tr>\n",
              "      <th>610</th>\n",
              "      <td>2</td>\n",
              "      <td>1</td>\n",
              "      <td>2.832343e+05</td>\n",
              "      <td>0</td>\n",
              "      <td>0</td>\n",
              "      <td>0</td>\n",
              "      <td>0</td>\n",
              "      <td>1</td>\n",
              "      <td>0</td>\n",
              "      <td>0</td>\n",
              "      <td>...</td>\n",
              "      <td>0</td>\n",
              "      <td>0</td>\n",
              "      <td>0</td>\n",
              "      <td>0</td>\n",
              "      <td>0</td>\n",
              "      <td>0</td>\n",
              "      <td>0</td>\n",
              "      <td>0</td>\n",
              "      <td>0</td>\n",
              "      <td>0</td>\n",
              "    </tr>\n",
              "    <tr>\n",
              "      <th>611</th>\n",
              "      <td>1</td>\n",
              "      <td>0</td>\n",
              "      <td>1.695306e+06</td>\n",
              "      <td>0</td>\n",
              "      <td>0</td>\n",
              "      <td>0</td>\n",
              "      <td>0</td>\n",
              "      <td>0</td>\n",
              "      <td>0</td>\n",
              "      <td>0</td>\n",
              "      <td>...</td>\n",
              "      <td>0</td>\n",
              "      <td>0</td>\n",
              "      <td>0</td>\n",
              "      <td>0</td>\n",
              "      <td>0</td>\n",
              "      <td>0</td>\n",
              "      <td>0</td>\n",
              "      <td>0</td>\n",
              "      <td>0</td>\n",
              "      <td>0</td>\n",
              "    </tr>\n",
              "    <tr>\n",
              "      <th>612</th>\n",
              "      <td>11</td>\n",
              "      <td>4</td>\n",
              "      <td>2.531617e+05</td>\n",
              "      <td>0</td>\n",
              "      <td>0</td>\n",
              "      <td>0</td>\n",
              "      <td>0</td>\n",
              "      <td>0</td>\n",
              "      <td>1</td>\n",
              "      <td>0</td>\n",
              "      <td>...</td>\n",
              "      <td>0</td>\n",
              "      <td>0</td>\n",
              "      <td>0</td>\n",
              "      <td>0</td>\n",
              "      <td>0</td>\n",
              "      <td>0</td>\n",
              "      <td>0</td>\n",
              "      <td>0</td>\n",
              "      <td>0</td>\n",
              "      <td>1</td>\n",
              "    </tr>\n",
              "  </tbody>\n",
              "</table>\n",
              "<p>613 rows × 73 columns</p>\n",
              "</div>\n",
              "      <button class=\"colab-df-convert\" onclick=\"convertToInteractive('df-b21a59c6-7381-484a-b68c-0fe1d555a936')\"\n",
              "              title=\"Convert this dataframe to an interactive table.\"\n",
              "              style=\"display:none;\">\n",
              "        \n",
              "  <svg xmlns=\"http://www.w3.org/2000/svg\" height=\"24px\"viewBox=\"0 0 24 24\"\n",
              "       width=\"24px\">\n",
              "    <path d=\"M0 0h24v24H0V0z\" fill=\"none\"/>\n",
              "    <path d=\"M18.56 5.44l.94 2.06.94-2.06 2.06-.94-2.06-.94-.94-2.06-.94 2.06-2.06.94zm-11 1L8.5 8.5l.94-2.06 2.06-.94-2.06-.94L8.5 2.5l-.94 2.06-2.06.94zm10 10l.94 2.06.94-2.06 2.06-.94-2.06-.94-.94-2.06-.94 2.06-2.06.94z\"/><path d=\"M17.41 7.96l-1.37-1.37c-.4-.4-.92-.59-1.43-.59-.52 0-1.04.2-1.43.59L10.3 9.45l-7.72 7.72c-.78.78-.78 2.05 0 2.83L4 21.41c.39.39.9.59 1.41.59.51 0 1.02-.2 1.41-.59l7.78-7.78 2.81-2.81c.8-.78.8-2.07 0-2.86zM5.41 20L4 18.59l7.72-7.72 1.47 1.35L5.41 20z\"/>\n",
              "  </svg>\n",
              "      </button>\n",
              "      \n",
              "  <style>\n",
              "    .colab-df-container {\n",
              "      display:flex;\n",
              "      flex-wrap:wrap;\n",
              "      gap: 12px;\n",
              "    }\n",
              "\n",
              "    .colab-df-convert {\n",
              "      background-color: #E8F0FE;\n",
              "      border: none;\n",
              "      border-radius: 50%;\n",
              "      cursor: pointer;\n",
              "      display: none;\n",
              "      fill: #1967D2;\n",
              "      height: 32px;\n",
              "      padding: 0 0 0 0;\n",
              "      width: 32px;\n",
              "    }\n",
              "\n",
              "    .colab-df-convert:hover {\n",
              "      background-color: #E2EBFA;\n",
              "      box-shadow: 0px 1px 2px rgba(60, 64, 67, 0.3), 0px 1px 3px 1px rgba(60, 64, 67, 0.15);\n",
              "      fill: #174EA6;\n",
              "    }\n",
              "\n",
              "    [theme=dark] .colab-df-convert {\n",
              "      background-color: #3B4455;\n",
              "      fill: #D2E3FC;\n",
              "    }\n",
              "\n",
              "    [theme=dark] .colab-df-convert:hover {\n",
              "      background-color: #434B5C;\n",
              "      box-shadow: 0px 1px 3px 1px rgba(0, 0, 0, 0.15);\n",
              "      filter: drop-shadow(0px 1px 2px rgba(0, 0, 0, 0.3));\n",
              "      fill: #FFFFFF;\n",
              "    }\n",
              "  </style>\n",
              "\n",
              "      <script>\n",
              "        const buttonEl =\n",
              "          document.querySelector('#df-b21a59c6-7381-484a-b68c-0fe1d555a936 button.colab-df-convert');\n",
              "        buttonEl.style.display =\n",
              "          google.colab.kernel.accessAllowed ? 'block' : 'none';\n",
              "\n",
              "        async function convertToInteractive(key) {\n",
              "          const element = document.querySelector('#df-b21a59c6-7381-484a-b68c-0fe1d555a936');\n",
              "          const dataTable =\n",
              "            await google.colab.kernel.invokeFunction('convertToInteractive',\n",
              "                                                     [key], {});\n",
              "          if (!dataTable) return;\n",
              "\n",
              "          const docLinkHtml = 'Like what you see? Visit the ' +\n",
              "            '<a target=\"_blank\" href=https://colab.research.google.com/notebooks/data_table.ipynb>data table notebook</a>'\n",
              "            + ' to learn more about interactive tables.';\n",
              "          element.innerHTML = '';\n",
              "          dataTable['output_type'] = 'display_data';\n",
              "          await google.colab.output.renderOutput(dataTable, element);\n",
              "          const docLink = document.createElement('div');\n",
              "          docLink.innerHTML = docLinkHtml;\n",
              "          element.appendChild(docLink);\n",
              "        }\n",
              "      </script>\n",
              "    </div>\n",
              "  </div>\n",
              "  "
            ]
          },
          "metadata": {},
          "execution_count": 7
        }
      ],
      "source": [
        "X_encoded = pd.get_dummies(X, columns = ['Classificacao_da_Oportunidade',\n",
        "                                         'Faixa_de_Faturamento_Agregado',\n",
        "                                         'Forma_de_Contratacao_Agregado',\n",
        "                                         'Carteira_Nova',\n",
        "                                         'Segmento_Agregado2'])\n",
        "X_encoded_teste = pd.get_dummies(X2, columns = ['Classificacao_da_Oportunidade',\n",
        "                                         'Faixa_de_Faturamento_Agregado',\n",
        "                                         'Forma_de_Contratacao_Agregado',\n",
        "                                         'Carteira_Nova',\n",
        "                                         'Segmento_Agregado2'])\n",
        "#transformamos as colunas do tipo object em dados numericos, pois o algoritmo de xgboost trabalha apenas com numeros \n",
        "X_encoded"
      ]
    },
    {
      "cell_type": "markdown",
      "metadata": {
        "id": "rupD211oC4Sw"
      },
      "source": [
        "## Machine Learning (motor analítico)\n"
      ]
    },
    {
      "cell_type": "markdown",
      "metadata": {
        "id": "d0ABrVOQMCxB"
      },
      "source": [
        "<h3> Descobrimos primeiro a probabilidade de ocorrência em cada parte dividida do data frame de treino."
      ]
    },
    {
      "cell_type": "code",
      "execution_count": null,
      "metadata": {
        "colab": {
          "base_uri": "https://localhost:8080/"
        },
        "id": "UFBsz-uwXcAv",
        "outputId": "1537a892-3b69-46c7-f92d-b2867ba8ac61"
      },
      "outputs": [
        {
          "output_type": "execute_result",
          "data": {
            "text/plain": [
              "0.46818923327895595"
            ]
          },
          "metadata": {},
          "execution_count": 8
        }
      ],
      "source": [
        "sum(y)/len(y) #clientes que fecharam o contrato/total clientes"
      ]
    },
    {
      "cell_type": "markdown",
      "metadata": {
        "id": "Mv5xekPdMrVh"
      },
      "source": [
        "Dividimos o data frame treino para duas partes: uma parte para treinar e outra parte para testar (aqui não consideramos o data frame teste! Apenas o data frame do treino!)"
      ]
    },
    {
      "cell_type": "code",
      "execution_count": null,
      "metadata": {
        "id": "J08lXV2RZHs6"
      },
      "outputs": [],
      "source": [
        "#nesse caso ele está fazendo um cross-validation uma das tecnicas de validação: treinamos o modelo com uma parte do data set e outra parte usamos para testar\n",
        "X_train, X_test, y_train, y_test = train_test_split(X_encoded, y, random_state = 1, stratify = y) #criamos base de dados (tanto no treino e no teste)\n"
      ]
    },
    {
      "cell_type": "markdown",
      "metadata": {
        "id": "rXjdGHftNPQc"
      },
      "source": [
        "Assim podemos perceber que cada parte apresenta uma probabilidade similar da probabilidade mencionada anteriormente, levando como consequencia a não ocorrencia de algum problema para o motor analitico."
      ]
    },
    {
      "cell_type": "code",
      "execution_count": null,
      "metadata": {
        "colab": {
          "base_uri": "https://localhost:8080/"
        },
        "id": "ivUZxGqaZt3f",
        "outputId": "432d85ca-5a40-4e89-cdc5-34774fd9f297"
      },
      "outputs": [
        {
          "output_type": "execute_result",
          "data": {
            "text/plain": [
              "0.4684095860566449"
            ]
          },
          "metadata": {},
          "execution_count": 10
        }
      ],
      "source": [
        "sum(y_train)/len(y_train) #Base de dados de treino"
      ]
    },
    {
      "cell_type": "code",
      "execution_count": null,
      "metadata": {
        "colab": {
          "base_uri": "https://localhost:8080/"
        },
        "id": "4AYGjFEfZ0XN",
        "outputId": "33e06af1-78a7-4079-f208-783ee423946c"
      },
      "outputs": [
        {
          "output_type": "execute_result",
          "data": {
            "text/plain": [
              "0.4675324675324675"
            ]
          },
          "metadata": {},
          "execution_count": 11
        }
      ],
      "source": [
        "sum(y_test)/len(y_test) #Base de daods de teste"
      ]
    },
    {
      "cell_type": "markdown",
      "metadata": {
        "id": "eAwHjt4uNcJe"
      },
      "source": [
        "Nesta seção, primeiramente criamos um modelo de acordo com as características necessárias: definimos qual algoritmo iremos usar que no caso é XGBClassifier e o objetivo dela que é binary:logistic.\n",
        "\n",
        "A seguir, o modelo é acionado pela função fit, o qual cria um modelo inicial, o segundo modelo por sua vez foca em prever de\n",
        "forma precisa nos casos onde o primeiro modelo apresenta um desempenho ruim. Repetimos o processo, sendo cada modelo sucessivo corrigindo os erros dos modelos previos."
      ]
    },
    {
      "cell_type": "code",
      "execution_count": null,
      "metadata": {
        "colab": {
          "base_uri": "https://localhost:8080/"
        },
        "id": "YnYKtz6Vadmu",
        "outputId": "6a70c195-2c58-4111-d516-8c53abb5e6dc"
      },
      "outputs": [
        {
          "output_type": "stream",
          "name": "stdout",
          "text": [
            "[0]\tvalidation_0-auc:0.665735\n",
            "Will train until validation_0-auc hasn't improved in 10 rounds.\n",
            "[1]\tvalidation_0-auc:0.703421\n",
            "[2]\tvalidation_0-auc:0.727049\n",
            "[3]\tvalidation_0-auc:0.730014\n",
            "[4]\tvalidation_0-auc:0.726118\n",
            "[5]\tvalidation_0-auc:0.732469\n",
            "[6]\tvalidation_0-auc:0.735434\n",
            "[7]\tvalidation_0-auc:0.755251\n",
            "[8]\tvalidation_0-auc:0.761433\n",
            "[9]\tvalidation_0-auc:0.767022\n",
            "[10]\tvalidation_0-auc:0.767022\n",
            "[11]\tvalidation_0-auc:0.775068\n",
            "[12]\tvalidation_0-auc:0.77854\n",
            "[13]\tvalidation_0-auc:0.773967\n",
            "[14]\tvalidation_0-auc:0.784553\n",
            "[15]\tvalidation_0-auc:0.785484\n",
            "[16]\tvalidation_0-auc:0.789804\n",
            "[17]\tvalidation_0-auc:0.788364\n",
            "[18]\tvalidation_0-auc:0.785823\n",
            "[19]\tvalidation_0-auc:0.780403\n",
            "[20]\tvalidation_0-auc:0.782774\n",
            "[21]\tvalidation_0-auc:0.780742\n",
            "[22]\tvalidation_0-auc:0.77727\n",
            "[23]\tvalidation_0-auc:0.779472\n",
            "[24]\tvalidation_0-auc:0.780488\n",
            "[25]\tvalidation_0-auc:0.780318\n",
            "[26]\tvalidation_0-auc:0.784214\n",
            "Stopping. Best iteration:\n",
            "[16]\tvalidation_0-auc:0.789804\n",
            "\n"
          ]
        },
        {
          "output_type": "execute_result",
          "data": {
            "text/plain": [
              "XGBClassifier(seed=42)"
            ]
          },
          "metadata": {},
          "execution_count": 12
        }
      ],
      "source": [
        "model = xgb.XGBClassifier(objective = 'binary:logistic', missing = None, seed = 42) #usamos binary:logistic, pois lidamos com probabilidade no resutado\n",
        "model.fit(X_train, #momento que treinamos o modelo \n",
        "            y_train, \n",
        "            verbose = True,\n",
        "            early_stopping_rounds = 10, #quantas iterações sem melhoria no modelo (para evitar overfitting)\n",
        "            eval_metric = 'auc', #qual o tipo de métrica vamos usar\n",
        "            eval_set = [(X_test, y_test)]) #enquanto a gente treina o modelo, validamos com o validation dataset"
      ]
    },
    {
      "cell_type": "markdown",
      "metadata": {
        "id": "RqNf5BUyPBj-"
      },
      "source": [
        "Nesta seção apresenta o número de acertos e os números de erros dentro dos dados. Podemos observar que dentro dos totais de acertos (negócios fechados) a inteligência artificial conseguiu acertar 64, enquanto que nos totais de erros (negócios não fechados) a ia acertou apenas 42."
      ]
    },
    {
      "cell_type": "code",
      "execution_count": null,
      "metadata": {
        "colab": {
          "base_uri": "https://localhost:8080/",
          "height": 351
        },
        "id": "x5h_cugTbu3j",
        "outputId": "eee56d59-d747-45f7-f820-389fe2c2fa3a"
      },
      "outputs": [
        {
          "output_type": "stream",
          "name": "stderr",
          "text": [
            "/usr/local/lib/python3.7/dist-packages/sklearn/utils/deprecation.py:87: FutureWarning: Function plot_confusion_matrix is deprecated; Function `plot_confusion_matrix` is deprecated in 1.0 and will be removed in 1.2. Use one of the class methods: ConfusionMatrixDisplay.from_predictions or ConfusionMatrixDisplay.from_estimator.\n",
            "  warnings.warn(msg, category=FutureWarning)\n"
          ]
        },
        {
          "output_type": "execute_result",
          "data": {
            "text/plain": [
              "<sklearn.metrics._plot.confusion_matrix.ConfusionMatrixDisplay at 0x7fcb9aa78590>"
            ]
          },
          "metadata": {},
          "execution_count": 13
        },
        {
          "output_type": "display_data",
          "data": {
            "text/plain": [
              "<Figure size 432x288 with 2 Axes>"
            ],
            "image/png": "[encoded data removed]"
          },
          "metadata": {
            "needs_background": "light"
          }
        }
      ],
      "source": [
        "plot_confusion_matrix(model,\n",
        "                      X_test,\n",
        "                      y_test,\n",
        "                      values_format = 'd',\n",
        "                      display_labels = [\"Fechou\", \"Não fechou\"]) # "
      ]
    },
    {
      "cell_type": "markdown",
      "metadata": {
        "id": "JBdRc-FBOz6D"
      },
      "source": [
        "Com a inteligência artificial treinada, iremos testar ela com o X_encoded_teste, cujo apresenta ser o data frame da base de dados de teste (sem o target column). "
      ]
    },
    {
      "cell_type": "code",
      "execution_count": null,
      "metadata": {
        "colab": {
          "base_uri": "https://localhost:8080/"
        },
        "id": "219k5u1CvSxF",
        "outputId": "d228e6c2-de4c-42d4-bf8c-bd92f4a7aeb8"
      },
      "outputs": [
        {
          "output_type": "stream",
          "name": "stdout",
          "text": [
            "[1 0 1 1 0 1 1 1 0 1 0 0 0 0 0 0 0 1 1 0 1 0 1 0 1 0 0 0 1 1 1 0 0 0 0 1 0\n",
            " 0 0 1 1 0 1 0 0 1 1 0 0 0 1 1 0 0 0 1 1 0 0 1 0 0 1 0 0 1 0 1 1 1 0 0 1 0\n",
            " 0 0 0 0 0 0 0 0 0 0 0 0 0 0 0 0 0 0 1 1 1 0 1 0 0 0 0 1 0 0 1 1 1 1 0 0 0\n",
            " 1 0 0 1 0 0 0 0 1 0 0 0 1 1 1 0 1 0 0 0 1 1 0 0 0 1 0 0 1 0 1 0 0 0 0 0 0\n",
            " 0 0 0 0 1 0 0 0 1 0 0 0 0 0 1 0 1 1 0 1 0 0 0 0 0 0 0 0 0 0 1 0 1 0 0 1 0\n",
            " 0 1 0 0 0 0 0 0 1 0 0 0 0 0 0 0 0 1 1 0]\n"
          ]
        }
      ],
      "source": [
        "# fazemos as previsões\n",
        "yhat = model.predict(X_encoded_teste)\n",
        "print(yhat) #Previsões onde o 1 é contrato fechado e 0 não fechou"
      ]
    },
    {
      "cell_type": "markdown",
      "metadata": {
        "id": "QrtUaw_2RKVT"
      },
      "source": [
        "Porém, apesar do algoritmo apresentar uma boa eficiência, há maneiras de otimizar ela. E é o que acontece na seção seguinte: adicionamos certos parâmetros a mais na hora de criar um modelo. E depois fazemos o mesmo que o anterior: treinamos a partir do fit."
      ]
    },
    {
      "cell_type": "code",
      "execution_count": null,
      "metadata": {
        "colab": {
          "base_uri": "https://localhost:8080/"
        },
        "id": "_ndbb2HdkmIu",
        "outputId": "8cc25340-99a6-49b2-e9eb-1f3406c90814"
      },
      "outputs": [
        {
          "output_type": "stream",
          "name": "stdout",
          "text": [
            "[0]\tvalidation_0-auc:0.612551\n",
            "Will train until validation_0-auc hasn't improved in 10 rounds.\n",
            "[1]\tvalidation_0-auc:0.664211\n",
            "[2]\tvalidation_0-auc:0.695884\n",
            "[3]\tvalidation_0-auc:0.70918\n",
            "[4]\tvalidation_0-auc:0.711721\n",
            "[5]\tvalidation_0-auc:0.716125\n",
            "[6]\tvalidation_0-auc:0.715447\n",
            "[7]\tvalidation_0-auc:0.724848\n",
            "[8]\tvalidation_0-auc:0.729082\n",
            "[9]\tvalidation_0-auc:0.72561\n",
            "[10]\tvalidation_0-auc:0.727896\n",
            "[11]\tvalidation_0-auc:0.734163\n",
            "[12]\tvalidation_0-auc:0.743225\n",
            "[13]\tvalidation_0-auc:0.744411\n",
            "[14]\tvalidation_0-auc:0.743902\n",
            "[15]\tvalidation_0-auc:0.751609\n",
            "[16]\tvalidation_0-auc:0.749577\n",
            "[17]\tvalidation_0-auc:0.76211\n",
            "[18]\tvalidation_0-auc:0.760586\n",
            "[19]\tvalidation_0-auc:0.759654\n",
            "[20]\tvalidation_0-auc:0.761348\n",
            "[21]\tvalidation_0-auc:0.760163\n",
            "[22]\tvalidation_0-auc:0.75813\n",
            "[23]\tvalidation_0-auc:0.755928\n",
            "[24]\tvalidation_0-auc:0.753388\n",
            "[25]\tvalidation_0-auc:0.754404\n",
            "[26]\tvalidation_0-auc:0.754912\n",
            "[27]\tvalidation_0-auc:0.762534\n",
            "[28]\tvalidation_0-auc:0.762873\n",
            "[29]\tvalidation_0-auc:0.765752\n",
            "[30]\tvalidation_0-auc:0.762873\n",
            "[31]\tvalidation_0-auc:0.763889\n",
            "[32]\tvalidation_0-auc:0.767276\n",
            "[33]\tvalidation_0-auc:0.764736\n",
            "[34]\tvalidation_0-auc:0.765075\n",
            "[35]\tvalidation_0-auc:0.769986\n",
            "[36]\tvalidation_0-auc:0.770664\n",
            "[37]\tvalidation_0-auc:0.770156\n",
            "[38]\tvalidation_0-auc:0.76914\n",
            "[39]\tvalidation_0-auc:0.768631\n",
            "[40]\tvalidation_0-auc:0.771172\n",
            "[41]\tvalidation_0-auc:0.773713\n",
            "[42]\tvalidation_0-auc:0.774221\n",
            "[43]\tvalidation_0-auc:0.777608\n",
            "[44]\tvalidation_0-auc:0.780827\n",
            "[45]\tvalidation_0-auc:0.782182\n",
            "[46]\tvalidation_0-auc:0.783198\n",
            "[47]\tvalidation_0-auc:0.782351\n",
            "[48]\tvalidation_0-auc:0.785061\n",
            "[49]\tvalidation_0-auc:0.783875\n",
            "[50]\tvalidation_0-auc:0.786077\n",
            "[51]\tvalidation_0-auc:0.785569\n",
            "[52]\tvalidation_0-auc:0.786416\n",
            "[53]\tvalidation_0-auc:0.783875\n",
            "[54]\tvalidation_0-auc:0.785061\n",
            "[55]\tvalidation_0-auc:0.786077\n",
            "[56]\tvalidation_0-auc:0.784214\n",
            "[57]\tvalidation_0-auc:0.786247\n",
            "[58]\tvalidation_0-auc:0.78794\n",
            "[59]\tvalidation_0-auc:0.787263\n",
            "[60]\tvalidation_0-auc:0.788449\n",
            "[61]\tvalidation_0-auc:0.78811\n",
            "[62]\tvalidation_0-auc:0.788279\n",
            "[63]\tvalidation_0-auc:0.789295\n",
            "[64]\tvalidation_0-auc:0.788787\n",
            "[65]\tvalidation_0-auc:0.791159\n",
            "[66]\tvalidation_0-auc:0.79353\n",
            "[67]\tvalidation_0-auc:0.792683\n",
            "[68]\tvalidation_0-auc:0.793191\n",
            "[69]\tvalidation_0-auc:0.794038\n",
            "[70]\tvalidation_0-auc:0.795562\n",
            "[71]\tvalidation_0-auc:0.794885\n",
            "[72]\tvalidation_0-auc:0.795054\n",
            "[73]\tvalidation_0-auc:0.79336\n",
            "[74]\tvalidation_0-auc:0.797256\n",
            "[75]\tvalidation_0-auc:0.797425\n",
            "[76]\tvalidation_0-auc:0.797256\n",
            "[77]\tvalidation_0-auc:0.79895\n",
            "[78]\tvalidation_0-auc:0.799627\n",
            "[79]\tvalidation_0-auc:0.799289\n",
            "[80]\tvalidation_0-auc:0.800474\n",
            "[81]\tvalidation_0-auc:0.799627\n",
            "[82]\tvalidation_0-auc:0.800813\n",
            "[83]\tvalidation_0-auc:0.799966\n",
            "[84]\tvalidation_0-auc:0.800135\n",
            "[85]\tvalidation_0-auc:0.80149\n",
            "[86]\tvalidation_0-auc:0.802507\n",
            "[87]\tvalidation_0-auc:0.803862\n",
            "[88]\tvalidation_0-auc:0.804709\n",
            "[89]\tvalidation_0-auc:0.803862\n",
            "[90]\tvalidation_0-auc:0.805386\n",
            "[91]\tvalidation_0-auc:0.805725\n",
            "[92]\tvalidation_0-auc:0.807757\n",
            "[93]\tvalidation_0-auc:0.807927\n",
            "[94]\tvalidation_0-auc:0.807757\n",
            "[95]\tvalidation_0-auc:0.808266\n",
            "[96]\tvalidation_0-auc:0.807927\n",
            "[97]\tvalidation_0-auc:0.807249\n",
            "[98]\tvalidation_0-auc:0.806402\n",
            "[99]\tvalidation_0-auc:0.808774\n"
          ]
        },
        {
          "output_type": "execute_result",
          "data": {
            "text/plain": [
              "XGBClassifier(colsample_bytree=0.5, gamma=0.25, learn_rate=0.5, max_depth=4,\n",
              "              reg_lambda=10, scale_pos_weight=3, seed=42, subsample=0.6)"
            ]
          },
          "metadata": {},
          "execution_count": 15
        }
      ],
      "source": [
        "model = xgb.XGBClassifier(seed = 42,\n",
        "                            objective = 'binary:logistic',\n",
        "                            gamma = 0.25,\n",
        "                            learn_rate = 0.5,\n",
        "                            max_depth = 4,\n",
        "                            reg_lambda = 10,\n",
        "                            scale_pos_weight = 3,\n",
        "                            subsample = 0.6,\n",
        "                            colsample_bytree = 0.5)\n",
        "\n",
        "model.fit(X_train,\n",
        "            y_train,\n",
        "            verbose = True,\n",
        "            early_stopping_rounds = 10,\n",
        "            eval_metric = 'auc',\n",
        "            eval_set = [(X_test, y_test)])"
      ]
    },
    {
      "cell_type": "markdown",
      "metadata": {
        "id": "GmzG6oBfRyom"
      },
      "source": [
        "Com a inteligência artifical treinada apresentamos o seus acertos e erros em um gráfico."
      ]
    },
    {
      "cell_type": "code",
      "execution_count": null,
      "metadata": {
        "colab": {
          "base_uri": "https://localhost:8080/",
          "height": 355
        },
        "id": "SYt7uswwlmiR",
        "outputId": "22030961-ade4-4edc-f82d-8e6332e304ce"
      },
      "outputs": [
        {
          "output_type": "stream",
          "name": "stderr",
          "text": [
            "/usr/local/lib/python3.7/dist-packages/sklearn/utils/deprecation.py:87: FutureWarning: Function plot_confusion_matrix is deprecated; Function `plot_confusion_matrix` is deprecated in 1.0 and will be removed in 1.2. Use one of the class methods: ConfusionMatrixDisplay.from_predictions or ConfusionMatrixDisplay.from_estimator.\n",
            "  warnings.warn(msg, category=FutureWarning)\n"
          ]
        },
        {
          "output_type": "execute_result",
          "data": {
            "text/plain": [
              "<sklearn.metrics._plot.confusion_matrix.ConfusionMatrixDisplay at 0x7fcb9a258650>"
            ]
          },
          "metadata": {},
          "execution_count": 16
        },
        {
          "output_type": "display_data",
          "data": {
            "text/plain": [
              "<Figure size 432x288 with 2 Axes>"
            ],
            "image/png": "[encoded data removed]"
          },
          "metadata": {
            "needs_background": "light"
          }
        }
      ],
      "source": [
        "plot_confusion_matrix(model,\n",
        "                      X_test,\n",
        "                      y_test,\n",
        "                      values_format = 'd',\n",
        "                      display_labels = [\"Fechou\", \"Não fechou\"])"
      ]
    },
    {
      "cell_type": "markdown",
      "metadata": {
        "id": "QCAhXrXPTRWy"
      },
      "source": [
        "E criamos uma lista de binário com 1 represetando como negócio fechado e 0 como negócio não fechado, ou seja, criamos um target column."
      ]
    },
    {
      "cell_type": "code",
      "execution_count": null,
      "metadata": {
        "colab": {
          "base_uri": "https://localhost:8080/"
        },
        "id": "Fh1HdUDr3egC",
        "outputId": "4a6a253e-6202-4e4b-d46e-c47c4201f0b9"
      },
      "outputs": [
        {
          "output_type": "stream",
          "name": "stdout",
          "text": [
            "[1 0 1 1 1 1 1 1 0 1 0 0 0 0 1 0 1 1 1 1 1 1 1 0 1 0 1 0 1 1 1 1 0 0 1 1 0\n",
            " 1 0 1 1 1 1 0 0 1 1 0 1 0 1 1 1 1 1 1 1 0 0 1 1 0 1 0 0 1 1 1 1 1 1 1 1 1\n",
            " 0 1 0 0 0 0 0 0 0 1 0 0 1 1 0 1 1 1 1 1 1 1 1 1 1 1 0 1 0 1 1 1 1 1 1 1 0\n",
            " 1 1 1 1 0 0 0 0 1 0 0 0 1 1 1 0 1 0 0 0 1 1 1 0 0 1 0 0 1 1 1 1 1 0 0 0 0\n",
            " 0 1 1 0 1 1 0 0 1 1 0 1 1 0 1 1 1 1 0 1 1 1 0 1 0 1 0 1 1 0 1 1 1 0 1 1 1\n",
            " 1 1 1 1 0 0 0 0 1 0 1 0 0 0 0 1 1 1 1 1]\n"
          ]
        }
      ],
      "source": [
        "# fazemos as previsões\n",
        "yhat = model.predict(X_encoded_teste)\n",
        "print(yhat)"
      ]
    },
    {
      "cell_type": "markdown",
      "metadata": {
        "id": "y-nbNkyITfBh"
      },
      "source": [
        "A seguir mostramos a árvore de decisão, da maneira que o algoritmo funciona, e 5 maps onde a sua chave apresenta ser um input do data frame (coluna) e o sua respectiva importância."
      ]
    },
    {
      "cell_type": "code",
      "execution_count": null,
      "metadata": {
        "colab": {
          "base_uri": "https://localhost:8080/",
          "height": 327
        },
        "id": "c--DK8bumTbC",
        "outputId": "978656c0-ea7b-47c5-d279-69c3394b3e22"
      },
      "outputs": [
        {
          "output_type": "stream",
          "name": "stdout",
          "text": [
            "weight:  {'Segmentacao': 2, 'numero_relacionamentos': 1, 'Margem_Total': 3, 'Custo_Total': 3, 'Segmento_Agregado2_Serviços_Financeiros': 1, 'Segmento_Agregado2_Energia': 1, 'Classificacao_da_Oportunidade_Recuperação': 1, 'numero_relacionamentos_convertidos': 1}\n",
            "gain:  {'Segmentacao': 20.92046451, 'numero_relacionamentos': 12.2902832, 'Margem_Total': 9.3792475, 'Custo_Total': 3.816169576666667, 'Segmento_Agregado2_Serviços_Financeiros': 6.68560791, 'Segmento_Agregado2_Energia': 6.2305603, 'Classificacao_da_Oportunidade_Recuperação': 8.33839607, 'numero_relacionamentos_convertidos': 3.5135603}\n",
            "cover:  {'Segmentacao': 124.375, 'numero_relacionamentos': 119.5, 'Margem_Total': 33.916666666666664, 'Custo_Total': 10.0, 'Segmento_Agregado2_Serviços_Financeiros': 107.25, 'Segmento_Agregado2_Energia': 104.0, 'Classificacao_da_Oportunidade_Recuperação': 61.25, 'numero_relacionamentos_convertidos': 15.25}\n",
            "total_gain:  {'Segmentacao': 41.84092902, 'numero_relacionamentos': 12.2902832, 'Margem_Total': 28.137742499999998, 'Custo_Total': 11.44850873, 'Segmento_Agregado2_Serviços_Financeiros': 6.68560791, 'Segmento_Agregado2_Energia': 6.2305603, 'Classificacao_da_Oportunidade_Recuperação': 8.33839607, 'numero_relacionamentos_convertidos': 3.5135603}\n",
            "total_cover:  {'Segmentacao': 248.75, 'numero_relacionamentos': 119.5, 'Margem_Total': 101.75, 'Custo_Total': 30.0, 'Segmento_Agregado2_Serviços_Financeiros': 107.25, 'Segmento_Agregado2_Energia': 104.0, 'Classificacao_da_Oportunidade_Recuperação': 61.25, 'numero_relacionamentos_convertidos': 15.25}\n"
          ]
        },
        {
          "output_type": "execute_result",
          "data": {
            "text/plain": [
              "<graphviz.dot.Digraph at 0x7fcb99d0fb50>"
            ],
            "image/svg+xml": "<?xml version=\"1.0\" encoding=\"UTF-8\" standalone=\"no\"?>\n<!DOCTYPE svg PUBLIC \"-//W3C//DTD SVG 1.1//EN\"\n \"http://www.w3.org/Graphics/SVG/1.1/DTD/svg11.dtd\">\n<!-- Generated by graphviz version 2.40.1 (20161225.0304)\n -->\n<!-- Title: %3 Pages: 1 -->\n<svg width=\"720pt\" height=\"149pt\"\n viewBox=\"0.00 0.00 720.00 148.74\" xmlns=\"http://www.w3.org/2000/svg\" xmlns:xlink=\"http://www.w3.org/1999/xlink\">\n<g id=\"graph0\" class=\"graph\" transform=\"scale(.3794 .3794) rotate(0) translate(4 388)\">\n<title>%3</title>\n<polygon fill=\"#ffffff\" stroke=\"transparent\" points=\"-4,4 -4,-388 1893.5,-388 1893.5,4 -4,4\"/>\n<!-- 0 -->\n<g id=\"node1\" class=\"node\">\n<title>0</title>\n<path fill=\"#78cb0e\" stroke=\"#000000\" d=\"M895,-384C895,-384 811,-384 811,-384 805,-384 799,-378 799,-372 799,-372 799,-360 799,-360 799,-354 805,-348 811,-348 811,-348 895,-348 895,-348 901,-348 907,-354 907,-360 907,-360 907,-372 907,-372 907,-378 901,-384 895,-384\"/>\n<text text-anchor=\"middle\" x=\"853\" y=\"-362.3\" font-family=\"Times,serif\" font-size=\"14.00\" fill=\"#000000\">Segmentacao&lt;2</text>\n</g>\n<!-- 1 -->\n<g id=\"node2\" class=\"node\">\n<title>1</title>\n<path fill=\"#78cb0e\" stroke=\"#000000\" d=\"M729,-297C729,-297 577,-297 577,-297 571,-297 565,-291 565,-285 565,-285 565,-273 565,-273 565,-267 571,-261 577,-261 577,-261 729,-261 729,-261 735,-261 741,-267 741,-273 741,-273 741,-285 741,-285 741,-291 735,-297 729,-297\"/>\n<text text-anchor=\"middle\" x=\"653\" y=\"-275.3\" font-family=\"Times,serif\" font-size=\"14.00\" fill=\"#000000\">numero_relacionamentos&lt;2</text>\n</g>\n<!-- 0&#45;&gt;1 -->\n<g id=\"edge1\" class=\"edge\">\n<title>0&#45;&gt;1</title>\n<path fill=\"none\" stroke=\"#0000ff\" d=\"M811.5599,-347.9735C780.3188,-334.3837 737.3042,-315.6723 703.9586,-301.167\"/>\n<polygon fill=\"#0000ff\" stroke=\"#0000ff\" points=\"704.9532,-297.7829 694.387,-297.0034 702.1609,-304.2019 704.9532,-297.7829\"/>\n<text text-anchor=\"middle\" x=\"800.5\" y=\"-318.8\" font-family=\"Times,serif\" font-size=\"14.00\" fill=\"#000000\">yes, missing</text>\n</g>\n<!-- 2 -->\n<g id=\"node3\" class=\"node\">\n<title>2</title>\n<path fill=\"#78cb0e\" stroke=\"#000000\" d=\"M1302,-297C1302,-297 1138,-297 1138,-297 1132,-297 1126,-291 1126,-285 1126,-285 1126,-273 1126,-273 1126,-267 1132,-261 1138,-261 1138,-261 1302,-261 1302,-261 1308,-261 1314,-267 1314,-273 1314,-273 1314,-285 1314,-285 1314,-291 1308,-297 1302,-297\"/>\n<text text-anchor=\"middle\" x=\"1220\" y=\"-275.3\" font-family=\"Times,serif\" font-size=\"14.00\" fill=\"#000000\">Margem_Total&lt;0.605698466</text>\n</g>\n<!-- 0&#45;&gt;2 -->\n<g id=\"edge2\" class=\"edge\">\n<title>0&#45;&gt;2</title>\n<path fill=\"none\" stroke=\"#ff0000\" d=\"M907.1521,-353.1629C966.8255,-339.0168 1063.6304,-316.0685 1133.7685,-299.4418\"/>\n<polygon fill=\"#ff0000\" stroke=\"#ff0000\" points=\"1134.9926,-302.7487 1143.9156,-297.0364 1133.3779,-295.9375 1134.9926,-302.7487\"/>\n<text text-anchor=\"middle\" x=\"1067\" y=\"-318.8\" font-family=\"Times,serif\" font-size=\"14.00\" fill=\"#000000\">no</text>\n</g>\n<!-- 3 -->\n<g id=\"node4\" class=\"node\">\n<title>3</title>\n<path fill=\"#78cb0e\" stroke=\"#000000\" d=\"M436,-210C436,-210 272,-210 272,-210 266,-210 260,-204 260,-198 260,-198 260,-186 260,-186 260,-180 266,-174 272,-174 272,-174 436,-174 436,-174 442,-174 448,-180 448,-186 448,-186 448,-198 448,-198 448,-204 442,-210 436,-210\"/>\n<text text-anchor=\"middle\" x=\"354\" y=\"-188.3\" font-family=\"Times,serif\" font-size=\"14.00\" fill=\"#000000\">Margem_Total&lt;0.583177805</text>\n</g>\n<!-- 1&#45;&gt;3 -->\n<g id=\"edge3\" class=\"edge\">\n<title>1&#45;&gt;3</title>\n<path fill=\"none\" stroke=\"#0000ff\" d=\"M591.047,-260.9735C542.9385,-246.9754 476.155,-227.5434 425.7301,-212.8713\"/>\n<polygon fill=\"#0000ff\" stroke=\"#0000ff\" points=\"426.4533,-209.4366 415.8736,-210.0034 424.4976,-216.1579 426.4533,-209.4366\"/>\n<text text-anchor=\"middle\" x=\"557.5\" y=\"-231.8\" font-family=\"Times,serif\" font-size=\"14.00\" fill=\"#000000\">yes, missing</text>\n</g>\n<!-- 4 -->\n<g id=\"node5\" class=\"node\">\n<title>4</title>\n<path fill=\"#78cb0e\" stroke=\"#000000\" d=\"M787,-210C787,-210 519,-210 519,-210 513,-210 507,-204 507,-198 507,-198 507,-186 507,-186 507,-180 513,-174 519,-174 519,-174 787,-174 787,-174 793,-174 799,-180 799,-186 799,-186 799,-198 799,-198 799,-204 793,-210 787,-210\"/>\n<text text-anchor=\"middle\" x=\"653\" y=\"-188.3\" font-family=\"Times,serif\" font-size=\"14.00\" fill=\"#000000\">Segmento_Agregado2_Serviços_Financeiros&lt;1</text>\n</g>\n<!-- 1&#45;&gt;4 -->\n<g id=\"edge4\" class=\"edge\">\n<title>1&#45;&gt;4</title>\n<path fill=\"none\" stroke=\"#ff0000\" d=\"M653,-260.9735C653,-249.1918 653,-233.5607 653,-220.1581\"/>\n<polygon fill=\"#ff0000\" stroke=\"#ff0000\" points=\"656.5001,-220.0033 653,-210.0034 649.5001,-220.0034 656.5001,-220.0033\"/>\n<text text-anchor=\"middle\" x=\"661\" y=\"-231.8\" font-family=\"Times,serif\" font-size=\"14.00\" fill=\"#000000\">no</text>\n</g>\n<!-- 5 -->\n<g id=\"node16\" class=\"node\">\n<title>5</title>\n<path fill=\"#78cb0e\" stroke=\"#000000\" d=\"M1355,-210C1355,-210 1085,-210 1085,-210 1079,-210 1073,-204 1073,-198 1073,-198 1073,-186 1073,-186 1073,-180 1079,-174 1085,-174 1085,-174 1355,-174 1355,-174 1361,-174 1367,-180 1367,-186 1367,-186 1367,-198 1367,-198 1367,-204 1361,-210 1355,-210\"/>\n<text text-anchor=\"middle\" x=\"1220\" y=\"-188.3\" font-family=\"Times,serif\" font-size=\"14.00\" fill=\"#000000\">Classificacao_da_Oportunidade_Recuperação&lt;1</text>\n</g>\n<!-- 2&#45;&gt;5 -->\n<g id=\"edge15\" class=\"edge\">\n<title>2&#45;&gt;5</title>\n<path fill=\"none\" stroke=\"#0000ff\" d=\"M1220,-260.9735C1220,-249.1918 1220,-233.5607 1220,-220.1581\"/>\n<polygon fill=\"#0000ff\" stroke=\"#0000ff\" points=\"1223.5001,-220.0033 1220,-210.0034 1216.5001,-220.0034 1223.5001,-220.0033\"/>\n<text text-anchor=\"middle\" x=\"1255.5\" y=\"-231.8\" font-family=\"Times,serif\" font-size=\"14.00\" fill=\"#000000\">yes, missing</text>\n</g>\n<!-- 6 -->\n<g id=\"node17\" class=\"node\">\n<title>6</title>\n<path fill=\"#78cb0e\" stroke=\"#000000\" d=\"M1564.5,-210C1564.5,-210 1421.5,-210 1421.5,-210 1415.5,-210 1409.5,-204 1409.5,-198 1409.5,-198 1409.5,-186 1409.5,-186 1409.5,-180 1415.5,-174 1421.5,-174 1421.5,-174 1564.5,-174 1564.5,-174 1570.5,-174 1576.5,-180 1576.5,-186 1576.5,-186 1576.5,-198 1576.5,-198 1576.5,-204 1570.5,-210 1564.5,-210\"/>\n<text text-anchor=\"middle\" x=\"1493\" y=\"-188.3\" font-family=\"Times,serif\" font-size=\"14.00\" fill=\"#000000\">Custo_Total&lt;38623.1875</text>\n</g>\n<!-- 2&#45;&gt;6 -->\n<g id=\"edge16\" class=\"edge\">\n<title>2&#45;&gt;6</title>\n<path fill=\"none\" stroke=\"#ff0000\" d=\"M1276.5658,-260.9735C1320.308,-247.0337 1380.9594,-227.7053 1426.931,-213.0549\"/>\n<polygon fill=\"#ff0000\" stroke=\"#ff0000\" points=\"1428.0416,-216.3746 1436.5067,-210.0034 1425.9161,-209.705 1428.0416,-216.3746\"/>\n<text text-anchor=\"middle\" x=\"1381\" y=\"-231.8\" font-family=\"Times,serif\" font-size=\"14.00\" fill=\"#000000\">no</text>\n</g>\n<!-- 7 -->\n<g id=\"node6\" class=\"node\">\n<title>7</title>\n<path fill=\"#78cb0e\" stroke=\"#000000\" d=\"M255.5,-123C255.5,-123 112.5,-123 112.5,-123 106.5,-123 100.5,-117 100.5,-111 100.5,-111 100.5,-99 100.5,-99 100.5,-93 106.5,-87 112.5,-87 112.5,-87 255.5,-87 255.5,-87 261.5,-87 267.5,-93 267.5,-99 267.5,-99 267.5,-111 267.5,-111 267.5,-117 261.5,-123 255.5,-123\"/>\n<text text-anchor=\"middle\" x=\"184\" y=\"-101.3\" font-family=\"Times,serif\" font-size=\"14.00\" fill=\"#000000\">Custo_Total&lt;464813.844</text>\n</g>\n<!-- 3&#45;&gt;7 -->\n<g id=\"edge5\" class=\"edge\">\n<title>3&#45;&gt;7</title>\n<path fill=\"none\" stroke=\"#0000ff\" d=\"M315.2962,-173.8324C303.5815,-168.2235 290.7175,-161.9536 279,-156 261.3985,-147.0568 242.1756,-136.8262 225.6547,-127.8868\"/>\n<polygon fill=\"#0000ff\" stroke=\"#0000ff\" points=\"227.2402,-124.7651 216.7819,-123.0698 223.9003,-130.917 227.2402,-124.7651\"/>\n<text text-anchor=\"middle\" x=\"314.5\" y=\"-144.8\" font-family=\"Times,serif\" font-size=\"14.00\" fill=\"#000000\">yes, missing</text>\n</g>\n<!-- 8 -->\n<g id=\"node7\" class=\"node\">\n<title>8</title>\n<polygon fill=\"#e48038\" stroke=\"#000000\" points=\"422,-123 286,-123 286,-87 422,-87 422,-123\"/>\n<text text-anchor=\"middle\" x=\"354\" y=\"-101.3\" font-family=\"Times,serif\" font-size=\"14.00\" fill=\"#000000\">leaf=&#45;0.0461538471</text>\n</g>\n<!-- 3&#45;&gt;8 -->\n<g id=\"edge6\" class=\"edge\">\n<title>3&#45;&gt;8</title>\n<path fill=\"none\" stroke=\"#ff0000\" d=\"M354,-173.9735C354,-162.1918 354,-146.5607 354,-133.1581\"/>\n<polygon fill=\"#ff0000\" stroke=\"#ff0000\" points=\"357.5001,-133.0033 354,-123.0034 350.5001,-133.0034 357.5001,-133.0033\"/>\n<text text-anchor=\"middle\" x=\"362\" y=\"-144.8\" font-family=\"Times,serif\" font-size=\"14.00\" fill=\"#000000\">no</text>\n</g>\n<!-- 9 -->\n<g id=\"node10\" class=\"node\">\n<title>9</title>\n<path fill=\"#78cb0e\" stroke=\"#000000\" d=\"M642,-123C642,-123 452,-123 452,-123 446,-123 440,-117 440,-111 440,-111 440,-99 440,-99 440,-93 446,-87 452,-87 452,-87 642,-87 642,-87 648,-87 654,-93 654,-99 654,-99 654,-111 654,-111 654,-117 648,-123 642,-123\"/>\n<text text-anchor=\"middle\" x=\"547\" y=\"-101.3\" font-family=\"Times,serif\" font-size=\"14.00\" fill=\"#000000\">Segmento_Agregado2_Energia&lt;1</text>\n</g>\n<!-- 4&#45;&gt;9 -->\n<g id=\"edge9\" class=\"edge\">\n<title>4&#45;&gt;9</title>\n<path fill=\"none\" stroke=\"#0000ff\" d=\"M631.0367,-173.9735C615.4028,-161.1419 594.2058,-143.7443 577.0121,-129.6326\"/>\n<polygon fill=\"#0000ff\" stroke=\"#0000ff\" points=\"578.8855,-126.6422 568.9351,-123.0034 574.4445,-132.0531 578.8855,-126.6422\"/>\n<text text-anchor=\"middle\" x=\"642.5\" y=\"-144.8\" font-family=\"Times,serif\" font-size=\"14.00\" fill=\"#000000\">yes, missing</text>\n</g>\n<!-- 10 -->\n<g id=\"node11\" class=\"node\">\n<title>10</title>\n<path fill=\"#78cb0e\" stroke=\"#000000\" d=\"M812,-123C812,-123 684,-123 684,-123 678,-123 672,-117 672,-111 672,-111 672,-99 672,-99 672,-93 678,-87 684,-87 684,-87 812,-87 812,-87 818,-87 824,-93 824,-99 824,-99 824,-111 824,-111 824,-117 818,-123 812,-123\"/>\n<text text-anchor=\"middle\" x=\"748\" y=\"-101.3\" font-family=\"Times,serif\" font-size=\"14.00\" fill=\"#000000\">Custo_Total&lt;278286.5</text>\n</g>\n<!-- 4&#45;&gt;10 -->\n<g id=\"edge10\" class=\"edge\">\n<title>4&#45;&gt;10</title>\n<path fill=\"none\" stroke=\"#ff0000\" d=\"M672.6841,-173.9735C686.5682,-161.2586 705.348,-144.0603 720.6812,-130.0183\"/>\n<polygon fill=\"#ff0000\" stroke=\"#ff0000\" points=\"723.3302,-132.3383 728.3412,-123.0034 718.6026,-127.1759 723.3302,-132.3383\"/>\n<text text-anchor=\"middle\" x=\"715\" y=\"-144.8\" font-family=\"Times,serif\" font-size=\"14.00\" fill=\"#000000\">no</text>\n</g>\n<!-- 15 -->\n<g id=\"node8\" class=\"node\">\n<title>15</title>\n<polygon fill=\"#e48038\" stroke=\"#000000\" points=\"124,-36 0,-36 0,0 124,0 124,-36\"/>\n<text text-anchor=\"middle\" x=\"62\" y=\"-14.3\" font-family=\"Times,serif\" font-size=\"14.00\" fill=\"#000000\">leaf=0.055072464</text>\n</g>\n<!-- 7&#45;&gt;15 -->\n<g id=\"edge7\" class=\"edge\">\n<title>7&#45;&gt;15</title>\n<path fill=\"none\" stroke=\"#0000ff\" d=\"M151.0899,-86.9009C141.8107,-81.4456 131.8402,-75.2413 123,-69 111.6995,-61.0217 99.899,-51.4747 89.7215,-42.8097\"/>\n<polygon fill=\"#0000ff\" stroke=\"#0000ff\" points=\"91.8039,-39.9836 81.9479,-36.0965 87.2287,-45.2815 91.8039,-39.9836\"/>\n<text text-anchor=\"middle\" x=\"158.5\" y=\"-57.8\" font-family=\"Times,serif\" font-size=\"14.00\" fill=\"#000000\">yes, missing</text>\n</g>\n<!-- 16 -->\n<g id=\"node9\" class=\"node\">\n<title>16</title>\n<polygon fill=\"#e48038\" stroke=\"#000000\" points=\"285.5,-36 142.5,-36 142.5,0 285.5,0 285.5,-36\"/>\n<text text-anchor=\"middle\" x=\"214\" y=\"-14.3\" font-family=\"Times,serif\" font-size=\"14.00\" fill=\"#000000\">leaf=&#45;0.00833333377</text>\n</g>\n<!-- 7&#45;&gt;16 -->\n<g id=\"edge8\" class=\"edge\">\n<title>7&#45;&gt;16</title>\n<path fill=\"none\" stroke=\"#ff0000\" d=\"M190.216,-86.9735C194.3189,-75.0751 199.7756,-59.2508 204.4274,-45.7606\"/>\n<polygon fill=\"#ff0000\" stroke=\"#ff0000\" points=\"207.8408,-46.5981 207.7919,-36.0034 201.2232,-44.3161 207.8408,-46.5981\"/>\n<text text-anchor=\"middle\" x=\"209\" y=\"-57.8\" font-family=\"Times,serif\" font-size=\"14.00\" fill=\"#000000\">no</text>\n</g>\n<!-- 17 -->\n<g id=\"node12\" class=\"node\">\n<title>17</title>\n<polygon fill=\"#e48038\" stroke=\"#000000\" points=\"457,-36 333,-36 333,0 457,0 457,-36\"/>\n<text text-anchor=\"middle\" x=\"395\" y=\"-14.3\" font-family=\"Times,serif\" font-size=\"14.00\" fill=\"#000000\">leaf=0.133928582</text>\n</g>\n<!-- 9&#45;&gt;17 -->\n<g id=\"edge11\" class=\"edge\">\n<title>9&#45;&gt;17</title>\n<path fill=\"none\" stroke=\"#0000ff\" d=\"M506.7751,-86.9432C495.37,-81.4886 483.0535,-75.274 472,-69 457.4725,-60.7541 442.0171,-50.7735 428.7948,-41.8356\"/>\n<polygon fill=\"#0000ff\" stroke=\"#0000ff\" points=\"430.6919,-38.8929 420.4605,-36.1415 426.743,-44.6727 430.6919,-38.8929\"/>\n<text text-anchor=\"middle\" x=\"507.5\" y=\"-57.8\" font-family=\"Times,serif\" font-size=\"14.00\" fill=\"#000000\">yes, missing</text>\n</g>\n<!-- 18 -->\n<g id=\"node13\" class=\"node\">\n<title>18</title>\n<polygon fill=\"#e48038\" stroke=\"#000000\" points=\"618.5,-36 475.5,-36 475.5,0 618.5,0 618.5,-36\"/>\n<text text-anchor=\"middle\" x=\"547\" y=\"-14.3\" font-family=\"Times,serif\" font-size=\"14.00\" fill=\"#000000\">leaf=&#45;0.00833333377</text>\n</g>\n<!-- 9&#45;&gt;18 -->\n<g id=\"edge12\" class=\"edge\">\n<title>9&#45;&gt;18</title>\n<path fill=\"none\" stroke=\"#ff0000\" d=\"M547,-86.9735C547,-75.1918 547,-59.5607 547,-46.1581\"/>\n<polygon fill=\"#ff0000\" stroke=\"#ff0000\" points=\"550.5001,-46.0033 547,-36.0034 543.5001,-46.0034 550.5001,-46.0033\"/>\n<text text-anchor=\"middle\" x=\"555\" y=\"-57.8\" font-family=\"Times,serif\" font-size=\"14.00\" fill=\"#000000\">no</text>\n</g>\n<!-- 19 -->\n<g id=\"node14\" class=\"node\">\n<title>19</title>\n<polygon fill=\"#e48038\" stroke=\"#000000\" points=\"767.5,-36 636.5,-36 636.5,0 767.5,0 767.5,-36\"/>\n<text text-anchor=\"middle\" x=\"702\" y=\"-14.3\" font-family=\"Times,serif\" font-size=\"14.00\" fill=\"#000000\">leaf=0.0260869563</text>\n</g>\n<!-- 10&#45;&gt;19 -->\n<g id=\"edge13\" class=\"edge\">\n<title>10&#45;&gt;19</title>\n<path fill=\"none\" stroke=\"#0000ff\" d=\"M738.4688,-86.9735C732.0543,-74.8418 723.4818,-58.6287 716.2599,-44.9698\"/>\n<polygon fill=\"#0000ff\" stroke=\"#0000ff\" points=\"719.2874,-43.2077 711.519,-36.0034 713.0992,-46.4797 719.2874,-43.2077\"/>\n<text text-anchor=\"middle\" x=\"763.5\" y=\"-57.8\" font-family=\"Times,serif\" font-size=\"14.00\" fill=\"#000000\">yes, missing</text>\n</g>\n<!-- 20 -->\n<g id=\"node15\" class=\"node\">\n<title>20</title>\n<polygon fill=\"#e48038\" stroke=\"#000000\" points=\"922,-36 786,-36 786,0 922,0 922,-36\"/>\n<text text-anchor=\"middle\" x=\"854\" y=\"-14.3\" font-family=\"Times,serif\" font-size=\"14.00\" fill=\"#000000\">leaf=&#45;0.0297872331</text>\n</g>\n<!-- 10&#45;&gt;20 -->\n<g id=\"edge14\" class=\"edge\">\n<title>10&#45;&gt;20</title>\n<path fill=\"none\" stroke=\"#ff0000\" d=\"M778.1877,-86.8346C786.4752,-81.4258 795.2953,-75.2622 803,-69 812.3738,-61.3812 821.925,-52.2623 830.1888,-43.8558\"/>\n<polygon fill=\"#ff0000\" stroke=\"#ff0000\" points=\"832.9555,-46.0287 837.3741,-36.3993 827.9149,-41.1715 832.9555,-46.0287\"/>\n<text text-anchor=\"middle\" x=\"828\" y=\"-57.8\" font-family=\"Times,serif\" font-size=\"14.00\" fill=\"#000000\">no</text>\n</g>\n<!-- 11 -->\n<g id=\"node18\" class=\"node\">\n<title>11</title>\n<path fill=\"#78cb0e\" stroke=\"#000000\" d=\"M1191,-123C1191,-123 1107,-123 1107,-123 1101,-123 1095,-117 1095,-111 1095,-111 1095,-99 1095,-99 1095,-93 1101,-87 1107,-87 1107,-87 1191,-87 1191,-87 1197,-87 1203,-93 1203,-99 1203,-99 1203,-111 1203,-111 1203,-117 1197,-123 1191,-123\"/>\n<text text-anchor=\"middle\" x=\"1149\" y=\"-101.3\" font-family=\"Times,serif\" font-size=\"14.00\" fill=\"#000000\">Segmentacao&lt;3</text>\n</g>\n<!-- 5&#45;&gt;11 -->\n<g id=\"edge17\" class=\"edge\">\n<title>5&#45;&gt;11</title>\n<path fill=\"none\" stroke=\"#0000ff\" d=\"M1205.2888,-173.9735C1195.1026,-161.4919 1181.3906,-144.6899 1170.0506,-130.7944\"/>\n<polygon fill=\"#0000ff\" stroke=\"#0000ff\" points=\"1172.7267,-128.5379 1163.6924,-123.0034 1167.3035,-132.9638 1172.7267,-128.5379\"/>\n<text text-anchor=\"middle\" x=\"1224.5\" y=\"-144.8\" font-family=\"Times,serif\" font-size=\"14.00\" fill=\"#000000\">yes, missing</text>\n</g>\n<!-- 12 -->\n<g id=\"node19\" class=\"node\">\n<title>12</title>\n<path fill=\"#78cb0e\" stroke=\"#000000\" d=\"M1397,-123C1397,-123 1233,-123 1233,-123 1227,-123 1221,-117 1221,-111 1221,-111 1221,-99 1221,-99 1221,-93 1227,-87 1233,-87 1233,-87 1397,-87 1397,-87 1403,-87 1409,-93 1409,-99 1409,-99 1409,-111 1409,-111 1409,-117 1403,-123 1397,-123\"/>\n<text text-anchor=\"middle\" x=\"1315\" y=\"-101.3\" font-family=\"Times,serif\" font-size=\"14.00\" fill=\"#000000\">Margem_Total&lt;0.501594901</text>\n</g>\n<!-- 5&#45;&gt;12 -->\n<g id=\"edge18\" class=\"edge\">\n<title>5&#45;&gt;12</title>\n<path fill=\"none\" stroke=\"#ff0000\" d=\"M1243.2011,-173.7385C1250.0202,-168.1795 1257.4137,-161.9605 1264,-156 1272.8142,-148.0232 1282.1049,-138.9488 1290.3065,-130.6879\"/>\n<polygon fill=\"#ff0000\" stroke=\"#ff0000\" points=\"1292.9719,-132.9693 1297.4875,-123.385 1287.9806,-128.0614 1292.9719,-132.9693\"/>\n<text text-anchor=\"middle\" x=\"1288\" y=\"-144.8\" font-family=\"Times,serif\" font-size=\"14.00\" fill=\"#000000\">no</text>\n</g>\n<!-- 13 -->\n<g id=\"node24\" class=\"node\">\n<title>13</title>\n<polygon fill=\"#e48038\" stroke=\"#000000\" points=\"1558.5,-123 1427.5,-123 1427.5,-87 1558.5,-87 1558.5,-123\"/>\n<text text-anchor=\"middle\" x=\"1493\" y=\"-101.3\" font-family=\"Times,serif\" font-size=\"14.00\" fill=\"#000000\">leaf=0.0367346965</text>\n</g>\n<!-- 6&#45;&gt;13 -->\n<g id=\"edge23\" class=\"edge\">\n<title>6&#45;&gt;13</title>\n<path fill=\"none\" stroke=\"#0000ff\" d=\"M1493,-173.9735C1493,-162.1918 1493,-146.5607 1493,-133.1581\"/>\n<polygon fill=\"#0000ff\" stroke=\"#0000ff\" points=\"1496.5001,-133.0033 1493,-123.0034 1489.5001,-133.0034 1496.5001,-133.0033\"/>\n<text text-anchor=\"middle\" x=\"1528.5\" y=\"-144.8\" font-family=\"Times,serif\" font-size=\"14.00\" fill=\"#000000\">yes, missing</text>\n</g>\n<!-- 14 -->\n<g id=\"node25\" class=\"node\">\n<title>14</title>\n<path fill=\"#78cb0e\" stroke=\"#000000\" d=\"M1815.5,-123C1815.5,-123 1588.5,-123 1588.5,-123 1582.5,-123 1576.5,-117 1576.5,-111 1576.5,-111 1576.5,-99 1576.5,-99 1576.5,-93 1582.5,-87 1588.5,-87 1588.5,-87 1815.5,-87 1815.5,-87 1821.5,-87 1827.5,-93 1827.5,-99 1827.5,-99 1827.5,-111 1827.5,-111 1827.5,-117 1821.5,-123 1815.5,-123\"/>\n<text text-anchor=\"middle\" x=\"1702\" y=\"-101.3\" font-family=\"Times,serif\" font-size=\"14.00\" fill=\"#000000\">numero_relacionamentos_convertidos&lt;1</text>\n</g>\n<!-- 6&#45;&gt;14 -->\n<g id=\"edge24\" class=\"edge\">\n<title>6&#45;&gt;14</title>\n<path fill=\"none\" stroke=\"#ff0000\" d=\"M1536.3049,-173.9735C1569.092,-160.3254 1614.2882,-141.5116 1649.1963,-126.9805\"/>\n<polygon fill=\"#ff0000\" stroke=\"#ff0000\" points=\"1650.8635,-130.0777 1658.7505,-123.0034 1648.1734,-123.6152 1650.8635,-130.0777\"/>\n<text text-anchor=\"middle\" x=\"1619\" y=\"-144.8\" font-family=\"Times,serif\" font-size=\"14.00\" fill=\"#000000\">no</text>\n</g>\n<!-- 21 -->\n<g id=\"node20\" class=\"node\">\n<title>21</title>\n<polygon fill=\"#e48038\" stroke=\"#000000\" points=\"1071.5,-36 940.5,-36 940.5,0 1071.5,0 1071.5,-36\"/>\n<text text-anchor=\"middle\" x=\"1006\" y=\"-14.3\" font-family=\"Times,serif\" font-size=\"14.00\" fill=\"#000000\">leaf=0.0786069632</text>\n</g>\n<!-- 11&#45;&gt;21 -->\n<g id=\"edge19\" class=\"edge\">\n<title>11&#45;&gt;21</title>\n<path fill=\"none\" stroke=\"#0000ff\" d=\"M1111.435,-86.8575C1100.7899,-81.4016 1089.2998,-75.2077 1079,-69 1065.3368,-60.7651 1050.8279,-50.8828 1038.3749,-42.019\"/>\n<polygon fill=\"#0000ff\" stroke=\"#0000ff\" points=\"1040.2792,-39.0774 1030.1177,-36.0781 1036.1909,-44.7595 1040.2792,-39.0774\"/>\n<text text-anchor=\"middle\" x=\"1114.5\" y=\"-57.8\" font-family=\"Times,serif\" font-size=\"14.00\" fill=\"#000000\">yes, missing</text>\n</g>\n<!-- 22 -->\n<g id=\"node21\" class=\"node\">\n<title>22</title>\n<polygon fill=\"#e48038\" stroke=\"#000000\" points=\"1228.5,-36 1089.5,-36 1089.5,0 1228.5,0 1228.5,-36\"/>\n<text text-anchor=\"middle\" x=\"1159\" y=\"-14.3\" font-family=\"Times,serif\" font-size=\"14.00\" fill=\"#000000\">leaf=0.00246913591</text>\n</g>\n<!-- 11&#45;&gt;22 -->\n<g id=\"edge20\" class=\"edge\">\n<title>11&#45;&gt;22</title>\n<path fill=\"none\" stroke=\"#ff0000\" d=\"M1151.072,-86.9735C1152.4262,-75.1918 1154.2229,-59.5607 1155.7634,-46.1581\"/>\n<polygon fill=\"#ff0000\" stroke=\"#ff0000\" points=\"1159.2658,-46.3376 1156.9306,-36.0034 1152.3115,-45.5383 1159.2658,-46.3376\"/>\n<text text-anchor=\"middle\" x=\"1163\" y=\"-57.8\" font-family=\"Times,serif\" font-size=\"14.00\" fill=\"#000000\">no</text>\n</g>\n<!-- 23 -->\n<g id=\"node22\" class=\"node\">\n<title>23</title>\n<polygon fill=\"#e48038\" stroke=\"#000000\" points=\"1383,-36 1247,-36 1247,0 1383,0 1383,-36\"/>\n<text text-anchor=\"middle\" x=\"1315\" y=\"-14.3\" font-family=\"Times,serif\" font-size=\"14.00\" fill=\"#000000\">leaf=&#45;0.0385964923</text>\n</g>\n<!-- 12&#45;&gt;23 -->\n<g id=\"edge21\" class=\"edge\">\n<title>12&#45;&gt;23</title>\n<path fill=\"none\" stroke=\"#0000ff\" d=\"M1315,-86.9735C1315,-75.1918 1315,-59.5607 1315,-46.1581\"/>\n<polygon fill=\"#0000ff\" stroke=\"#0000ff\" points=\"1318.5001,-46.0033 1315,-36.0034 1311.5001,-46.0034 1318.5001,-46.0033\"/>\n<text text-anchor=\"middle\" x=\"1350.5\" y=\"-57.8\" font-family=\"Times,serif\" font-size=\"14.00\" fill=\"#000000\">yes, missing</text>\n</g>\n<!-- 24 -->\n<g id=\"node23\" class=\"node\">\n<title>24</title>\n<polygon fill=\"#e48038\" stroke=\"#000000\" points=\"1532.5,-36 1401.5,-36 1401.5,0 1532.5,0 1532.5,-36\"/>\n<text text-anchor=\"middle\" x=\"1467\" y=\"-14.3\" font-family=\"Times,serif\" font-size=\"14.00\" fill=\"#000000\">leaf=0.0121212127</text>\n</g>\n<!-- 12&#45;&gt;24 -->\n<g id=\"edge22\" class=\"edge\">\n<title>12&#45;&gt;24</title>\n<path fill=\"none\" stroke=\"#ff0000\" d=\"M1355.2249,-86.9432C1366.63,-81.4886 1378.9465,-75.274 1390,-69 1404.5275,-60.7541 1419.9829,-50.7735 1433.2052,-41.8356\"/>\n<polygon fill=\"#ff0000\" stroke=\"#ff0000\" points=\"1435.257,-44.6727 1441.5395,-36.1415 1431.3081,-38.8929 1435.257,-44.6727\"/>\n<text text-anchor=\"middle\" x=\"1422\" y=\"-57.8\" font-family=\"Times,serif\" font-size=\"14.00\" fill=\"#000000\">no</text>\n</g>\n<!-- 25 -->\n<g id=\"node26\" class=\"node\">\n<title>25</title>\n<polygon fill=\"#e48038\" stroke=\"#000000\" points=\"1728,-36 1592,-36 1592,0 1728,0 1728,-36\"/>\n<text text-anchor=\"middle\" x=\"1660\" y=\"-14.3\" font-family=\"Times,serif\" font-size=\"14.00\" fill=\"#000000\">leaf=&#45;0.0947368443</text>\n</g>\n<!-- 14&#45;&gt;25 -->\n<g id=\"edge25\" class=\"edge\">\n<title>14&#45;&gt;25</title>\n<path fill=\"none\" stroke=\"#0000ff\" d=\"M1693.2976,-86.9735C1687.4972,-74.9585 1679.7642,-58.9401 1673.2105,-45.3646\"/>\n<polygon fill=\"#0000ff\" stroke=\"#0000ff\" points=\"1676.1908,-43.4872 1668.6913,-36.0034 1669.8869,-46.5305 1676.1908,-43.4872\"/>\n<text text-anchor=\"middle\" x=\"1719.5\" y=\"-57.8\" font-family=\"Times,serif\" font-size=\"14.00\" fill=\"#000000\">yes, missing</text>\n</g>\n<!-- 26 -->\n<g id=\"node27\" class=\"node\">\n<title>26</title>\n<polygon fill=\"#e48038\" stroke=\"#000000\" points=\"1889.5,-36 1746.5,-36 1746.5,0 1889.5,0 1889.5,-36\"/>\n<text text-anchor=\"middle\" x=\"1818\" y=\"-14.3\" font-family=\"Times,serif\" font-size=\"14.00\" fill=\"#000000\">leaf=&#45;0.00307692308</text>\n</g>\n<!-- 14&#45;&gt;26 -->\n<g id=\"edge26\" class=\"edge\">\n<title>14&#45;&gt;26</title>\n<path fill=\"none\" stroke=\"#ff0000\" d=\"M1732.4401,-86.9492C1741.1939,-81.4462 1750.6327,-75.2046 1759,-69 1769.8127,-60.982 1781.1258,-51.4996 1790.9196,-42.8996\"/>\n<polygon fill=\"#ff0000\" stroke=\"#ff0000\" points=\"1793.2645,-45.4981 1798.4098,-36.2366 1788.6119,-40.268 1793.2645,-45.4981\"/>\n<text text-anchor=\"middle\" x=\"1785\" y=\"-57.8\" font-family=\"Times,serif\" font-size=\"14.00\" fill=\"#000000\">no</text>\n</g>\n</g>\n</svg>\n"
          },
          "metadata": {},
          "execution_count": 18
        }
      ],
      "source": [
        "model = xgb.XGBClassifier(seed = 42,\n",
        "                            objective = 'binary:logistic',\n",
        "                            gamma = 0.25,\n",
        "                            learn_rate = 0.1,\n",
        "                            max_depth = 4,\n",
        "                            reg_lambda = 10,\n",
        "                            scale_pos_weight = 3,\n",
        "                            subsample = 0.9,\n",
        "                            colsample_bytree = 0.5,\n",
        "                            n_estimators = 1)\n",
        "\n",
        "model.fit(X_train, y_train)\n",
        "\n",
        "bst = model.get_booster()\n",
        "for importance_type in ('weight', 'gain', 'cover', 'total_gain', 'total_cover'):\n",
        "  print('%s: '% importance_type, bst.get_score(importance_type = importance_type))\n",
        "\n",
        "node_params = {'shape' : 'box', 'style' : 'filled, rounded', 'fillcolor' : '#78cbe'}\n",
        "\n",
        "leaf_params = {'shape' : 'box', 'style' : 'filled', 'fillcolor' : '#e48038'}\n",
        "\n",
        "xgb.to_graphviz(model, num_trees = 0, size = \"10,10\",\n",
        "                 condition_node_params = node_params,\n",
        "                 leaf_node_params = leaf_params)"
      ]
    },
    {
      "cell_type": "markdown",
      "metadata": {
        "id": "ewYdxYKmUACX"
      },
      "source": [
        "Nesta seção, realizamos as previsões e a coluna gerada (lista binária) é adicionada no arquivo e geramos um csv como saída."
      ]
    },
    {
      "cell_type": "code",
      "execution_count": null,
      "metadata": {
        "colab": {
          "base_uri": "https://localhost:8080/"
        },
        "id": "-d6bBTQ5bxH5",
        "outputId": "1c56c9a0-c9fc-4b01-c1af-9a75cbc4c112"
      },
      "outputs": [
        {
          "output_type": "stream",
          "name": "stdout",
          "text": [
            "[1 0 1 1 1 1 1 1 1 1 1 0 1 1 1 1 1 1 1 0 1 0 1 0 1 0 1 1 1 0 0 1 0 0 0 1 1\n",
            " 1 0 1 1 1 1 0 0 1 1 1 1 0 1 1 0 1 1 1 1 0 1 1 1 1 1 0 1 1 1 1 1 1 0 1 1 0\n",
            " 0 0 1 1 1 1 0 0 0 1 1 0 1 0 1 1 1 1 1 0 1 1 1 1 1 1 1 1 0 1 1 1 1 1 1 0 0\n",
            " 1 1 0 1 0 1 1 0 1 1 1 1 1 0 0 0 1 1 1 0 1 1 1 0 1 1 1 0 1 1 0 1 1 1 1 0 1\n",
            " 0 1 1 0 1 1 0 0 1 1 0 1 1 0 1 1 1 1 1 1 1 0 1 1 1 0 1 1 1 1 0 1 1 1 1 1 0\n",
            " 1 0 0 1 0 0 1 1 1 1 1 1 0 1 1 1 1 1 1 1]\n"
          ]
        }
      ],
      "source": [
        "# fazemos as previsões\n",
        "previsoes = model.predict(X_encoded_teste)\n",
        "print(previsoes)"
      ]
    },
    {
      "cell_type": "code",
      "execution_count": null,
      "metadata": {
        "colab": {
          "base_uri": "https://localhost:8080/",
          "height": 458
        },
        "id": "ZFmGs80_ZFdW",
        "outputId": "5da1b6d2-4e3b-4471-ecf4-f31eaed393ba"
      },
      "outputs": [
        {
          "output_type": "stream",
          "name": "stderr",
          "text": [
            "/usr/local/lib/python3.7/dist-packages/ipykernel_launcher.py:5: FutureWarning: In a future version of pandas all arguments of DataFrame.drop except for the argument 'labels' will be keyword-only\n",
            "  \"\"\"\n"
          ]
        },
        {
          "output_type": "execute_result",
          "data": {
            "text/plain": [
              "     ID_cliente  Fechou\n",
              "0            95       1\n",
              "1           263       0\n",
              "2           437       1\n",
              "3           252       1\n",
              "4           386       1\n",
              "..          ...     ...\n",
              "200         737       1\n",
              "201         730       1\n",
              "202         738       1\n",
              "203         514       1\n",
              "204         516       1\n",
              "\n",
              "[205 rows x 2 columns]"
            ],
            "text/html": [
              "\n",
              "  <div id=\"df-bc089d6c-d24b-43a6-9436-6d2b50430e8e\">\n",
              "    <div class=\"colab-df-container\">\n",
              "      <div>\n",
              "<style scoped>\n",
              "    .dataframe tbody tr th:only-of-type {\n",
              "        vertical-align: middle;\n",
              "    }\n",
              "\n",
              "    .dataframe tbody tr th {\n",
              "        vertical-align: top;\n",
              "    }\n",
              "\n",
              "    .dataframe thead th {\n",
              "        text-align: right;\n",
              "    }\n",
              "</style>\n",
              "<table border=\"1\" class=\"dataframe\">\n",
              "  <thead>\n",
              "    <tr style=\"text-align: right;\">\n",
              "      <th></th>\n",
              "      <th>ID_cliente</th>\n",
              "      <th>Fechou</th>\n",
              "    </tr>\n",
              "  </thead>\n",
              "  <tbody>\n",
              "    <tr>\n",
              "      <th>0</th>\n",
              "      <td>95</td>\n",
              "      <td>1</td>\n",
              "    </tr>\n",
              "    <tr>\n",
              "      <th>1</th>\n",
              "      <td>263</td>\n",
              "      <td>0</td>\n",
              "    </tr>\n",
              "    <tr>\n",
              "      <th>2</th>\n",
              "      <td>437</td>\n",
              "      <td>1</td>\n",
              "    </tr>\n",
              "    <tr>\n",
              "      <th>3</th>\n",
              "      <td>252</td>\n",
              "      <td>1</td>\n",
              "    </tr>\n",
              "    <tr>\n",
              "      <th>4</th>\n",
              "      <td>386</td>\n",
              "      <td>1</td>\n",
              "    </tr>\n",
              "    <tr>\n",
              "      <th>...</th>\n",
              "      <td>...</td>\n",
              "      <td>...</td>\n",
              "    </tr>\n",
              "    <tr>\n",
              "      <th>200</th>\n",
              "      <td>737</td>\n",
              "      <td>1</td>\n",
              "    </tr>\n",
              "    <tr>\n",
              "      <th>201</th>\n",
              "      <td>730</td>\n",
              "      <td>1</td>\n",
              "    </tr>\n",
              "    <tr>\n",
              "      <th>202</th>\n",
              "      <td>738</td>\n",
              "      <td>1</td>\n",
              "    </tr>\n",
              "    <tr>\n",
              "      <th>203</th>\n",
              "      <td>514</td>\n",
              "      <td>1</td>\n",
              "    </tr>\n",
              "    <tr>\n",
              "      <th>204</th>\n",
              "      <td>516</td>\n",
              "      <td>1</td>\n",
              "    </tr>\n",
              "  </tbody>\n",
              "</table>\n",
              "<p>205 rows × 2 columns</p>\n",
              "</div>\n",
              "      <button class=\"colab-df-convert\" onclick=\"convertToInteractive('df-bc089d6c-d24b-43a6-9436-6d2b50430e8e')\"\n",
              "              title=\"Convert this dataframe to an interactive table.\"\n",
              "              style=\"display:none;\">\n",
              "        \n",
              "  <svg xmlns=\"http://www.w3.org/2000/svg\" height=\"24px\"viewBox=\"0 0 24 24\"\n",
              "       width=\"24px\">\n",
              "    <path d=\"M0 0h24v24H0V0z\" fill=\"none\"/>\n",
              "    <path d=\"M18.56 5.44l.94 2.06.94-2.06 2.06-.94-2.06-.94-.94-2.06-.94 2.06-2.06.94zm-11 1L8.5 8.5l.94-2.06 2.06-.94-2.06-.94L8.5 2.5l-.94 2.06-2.06.94zm10 10l.94 2.06.94-2.06 2.06-.94-2.06-.94-.94-2.06-.94 2.06-2.06.94z\"/><path d=\"M17.41 7.96l-1.37-1.37c-.4-.4-.92-.59-1.43-.59-.52 0-1.04.2-1.43.59L10.3 9.45l-7.72 7.72c-.78.78-.78 2.05 0 2.83L4 21.41c.39.39.9.59 1.41.59.51 0 1.02-.2 1.41-.59l7.78-7.78 2.81-2.81c.8-.78.8-2.07 0-2.86zM5.41 20L4 18.59l7.72-7.72 1.47 1.35L5.41 20z\"/>\n",
              "  </svg>\n",
              "      </button>\n",
              "      \n",
              "  <style>\n",
              "    .colab-df-container {\n",
              "      display:flex;\n",
              "      flex-wrap:wrap;\n",
              "      gap: 12px;\n",
              "    }\n",
              "\n",
              "    .colab-df-convert {\n",
              "      background-color: #E8F0FE;\n",
              "      border: none;\n",
              "      border-radius: 50%;\n",
              "      cursor: pointer;\n",
              "      display: none;\n",
              "      fill: #1967D2;\n",
              "      height: 32px;\n",
              "      padding: 0 0 0 0;\n",
              "      width: 32px;\n",
              "    }\n",
              "\n",
              "    .colab-df-convert:hover {\n",
              "      background-color: #E2EBFA;\n",
              "      box-shadow: 0px 1px 2px rgba(60, 64, 67, 0.3), 0px 1px 3px 1px rgba(60, 64, 67, 0.15);\n",
              "      fill: #174EA6;\n",
              "    }\n",
              "\n",
              "    [theme=dark] .colab-df-convert {\n",
              "      background-color: #3B4455;\n",
              "      fill: #D2E3FC;\n",
              "    }\n",
              "\n",
              "    [theme=dark] .colab-df-convert:hover {\n",
              "      background-color: #434B5C;\n",
              "      box-shadow: 0px 1px 3px 1px rgba(0, 0, 0, 0.15);\n",
              "      filter: drop-shadow(0px 1px 2px rgba(0, 0, 0, 0.3));\n",
              "      fill: #FFFFFF;\n",
              "    }\n",
              "  </style>\n",
              "\n",
              "      <script>\n",
              "        const buttonEl =\n",
              "          document.querySelector('#df-bc089d6c-d24b-43a6-9436-6d2b50430e8e button.colab-df-convert');\n",
              "        buttonEl.style.display =\n",
              "          google.colab.kernel.accessAllowed ? 'block' : 'none';\n",
              "\n",
              "        async function convertToInteractive(key) {\n",
              "          const element = document.querySelector('#df-bc089d6c-d24b-43a6-9436-6d2b50430e8e');\n",
              "          const dataTable =\n",
              "            await google.colab.kernel.invokeFunction('convertToInteractive',\n",
              "                                                     [key], {});\n",
              "          if (!dataTable) return;\n",
              "\n",
              "          const docLinkHtml = 'Like what you see? Visit the ' +\n",
              "            '<a target=\"_blank\" href=https://colab.research.google.com/notebooks/data_table.ipynb>data table notebook</a>'\n",
              "            + ' to learn more about interactive tables.';\n",
              "          element.innerHTML = '';\n",
              "          dataTable['output_type'] = 'display_data';\n",
              "          await google.colab.output.renderOutput(dataTable, element);\n",
              "          const docLink = document.createElement('div');\n",
              "          docLink.innerHTML = docLinkHtml;\n",
              "          element.appendChild(docLink);\n",
              "        }\n",
              "      </script>\n",
              "    </div>\n",
              "  </div>\n",
              "  "
            ]
          },
          "metadata": {},
          "execution_count": 20
        }
      ],
      "source": [
        "#Atualizamos o dataframe com o resultado e geramos um csv de saída\n",
        "\n",
        "resultado = pd.read_csv(url_teste, encoding = \"ISO-8859-1\")\n",
        "resultado.insert((resultado.shape[1]),'Fechou',previsoes)\n",
        "resultado.drop(resultado.columns.difference(['ID_cliente','Fechou']), 1, inplace=True)\n",
        "resultado.to_csv('resultado.csv', index = False)\n",
        "\n",
        "resultado"
      ]
    }
  ],
  "metadata": {
    "colab": {
      "collapsed_sections": [],
      "provenance": [],
      "include_colab_link": true
    },
    "kernelspec": {
      "display_name": "Python 3",
      "name": "python3"
    },
    "language_info": {
      "name": "python"
    }
  },
  "nbformat": 4,
  "nbformat_minor": 0
}